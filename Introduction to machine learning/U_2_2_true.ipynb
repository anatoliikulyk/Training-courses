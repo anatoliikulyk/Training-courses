{
 "cells": [
  {
   "cell_type": "code",
   "execution_count": 1,
   "metadata": {},
   "outputs": [],
   "source": [
    "import numpy as np\n",
    "import pandas as pd\n",
    "from sklearn import model_selection,  metrics, datasets\n",
    "from sklearn.preprocessing import LabelEncoder, StandardScaler, MinMaxScaler, scale\n",
    "from sklearn.model_selection import train_test_split, cross_val_score, KFold\n",
    "from sklearn.tree import DecisionTreeRegressor\n",
    "from sklearn.neighbors import KNeighborsRegressor\n",
    "import matplotlib\n",
    "from matplotlib import pyplot as plt"
   ]
  },
  {
   "cell_type": "code",
   "execution_count": 2,
   "metadata": {},
   "outputs": [],
   "source": [
    "#download dataset\n",
    "boston=datasets.load_boston()"
   ]
  },
  {
   "cell_type": "code",
   "execution_count": 3,
   "metadata": {},
   "outputs": [
    {
     "data": {
      "text/plain": [
       "dict_keys(['data', 'target', 'feature_names', 'DESCR'])"
      ]
     },
     "execution_count": 3,
     "metadata": {},
     "output_type": "execute_result"
    }
   ],
   "source": [
    "boston.keys()"
   ]
  },
  {
   "cell_type": "code",
   "execution_count": 31,
   "metadata": {},
   "outputs": [],
   "source": [
    "# Виділили цільовий вектор y і ознаки X\n",
    "X=boston['data']\n",
    "y=boston['target']"
   ]
  },
  {
   "cell_type": "code",
   "execution_count": 32,
   "metadata": {},
   "outputs": [],
   "source": [
    "# Масштабування ознак\n",
    "X_scaled=scale(X)"
   ]
  },
  {
   "cell_type": "code",
   "execution_count": 33,
   "metadata": {},
   "outputs": [],
   "source": [
    "kf = model_selection.KFold(n_splits=5, shuffle=True, random_state=42)"
   ]
  },
  {
   "cell_type": "code",
   "execution_count": 34,
   "metadata": {},
   "outputs": [],
   "source": [
    "validation=list()\n",
    "p_vec=np.linspace(1.0, 10.0, 200)\n",
    "for i in range(len(p_vec)):\n",
    "    validation.append(max(cross_val_score(KNeighborsRegressor(n_neighbors=5, weights=\"distance\", p=p_vec[i]), \n",
    "                                          X_scaled, y, cv= kf, scoring='neg_mean_squared_error')))\n",
    "    "
   ]
  },
  {
   "cell_type": "code",
   "execution_count": 35,
   "metadata": {},
   "outputs": [
    {
     "name": "stdout",
     "output_type": "stream",
     "text": [
      "3 -11.836923625344417 1.135678391959799\n"
     ]
    }
   ],
   "source": [
    "print(validation.index(max(validation)), max(validation), p_vec[validation.index(max(validation))])"
   ]
  },
  {
   "cell_type": "code",
   "execution_count": 36,
   "metadata": {},
   "outputs": [],
   "source": [
    "validation=list()\n",
    "p_vec=np.linspace(1.0, 10.0, 200)\n",
    "for i in range(len(p_vec)):\n",
    "    validation.append(np.mean(cross_val_score(KNeighborsRegressor(n_neighbors=5, weights=\"distance\", p=p_vec[i]),\n",
    "                    X_scaled, y, cv= kf, scoring='neg_mean_squared_error')))"
   ]
  },
  {
   "cell_type": "code",
   "execution_count": 37,
   "metadata": {},
   "outputs": [
    {
     "name": "stdout",
     "output_type": "stream",
     "text": [
      "0 -16.050208508436157 1.0\n"
     ]
    }
   ],
   "source": [
    "print(validation.index(max(validation)), max(validation), p_vec[validation.index(max(validation))]) "
   ]
  }
 ],
 "metadata": {
  "kernelspec": {
   "display_name": "Python 3",
   "language": "python",
   "name": "python3"
  },
  "language_info": {
   "codemirror_mode": {
    "name": "ipython",
    "version": 3
   },
   "file_extension": ".py",
   "mimetype": "text/x-python",
   "name": "python",
   "nbconvert_exporter": "python",
   "pygments_lexer": "ipython3",
   "version": "3.6.4"
  }
 },
 "nbformat": 4,
 "nbformat_minor": 2
}
