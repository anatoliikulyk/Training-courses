{
 "cells": [
  {
   "cell_type": "code",
   "execution_count": 1,
   "metadata": {},
   "outputs": [],
   "source": [
    "import numpy as np \n",
    "import pandas as pd \n",
    "import math"
   ]
  },
  {
   "cell_type": "code",
   "execution_count": 2,
   "metadata": {},
   "outputs": [],
   "source": [
    "df=pd.read_csv('gbm-data.csv')\n"
   ]
  },
  {
   "cell_type": "code",
   "execution_count": 3,
   "metadata": {},
   "outputs": [
    {
     "data": {
      "text/html": [
       "<div>\n",
       "<style scoped>\n",
       "    .dataframe tbody tr th:only-of-type {\n",
       "        vertical-align: middle;\n",
       "    }\n",
       "\n",
       "    .dataframe tbody tr th {\n",
       "        vertical-align: top;\n",
       "    }\n",
       "\n",
       "    .dataframe thead th {\n",
       "        text-align: right;\n",
       "    }\n",
       "</style>\n",
       "<table border=\"1\" class=\"dataframe\">\n",
       "  <thead>\n",
       "    <tr style=\"text-align: right;\">\n",
       "      <th></th>\n",
       "      <th>Activity</th>\n",
       "      <th>D1</th>\n",
       "      <th>D2</th>\n",
       "      <th>D3</th>\n",
       "      <th>D4</th>\n",
       "      <th>D5</th>\n",
       "      <th>D6</th>\n",
       "      <th>D7</th>\n",
       "      <th>D8</th>\n",
       "      <th>D9</th>\n",
       "      <th>...</th>\n",
       "      <th>D1767</th>\n",
       "      <th>D1768</th>\n",
       "      <th>D1769</th>\n",
       "      <th>D1770</th>\n",
       "      <th>D1771</th>\n",
       "      <th>D1772</th>\n",
       "      <th>D1773</th>\n",
       "      <th>D1774</th>\n",
       "      <th>D1775</th>\n",
       "      <th>D1776</th>\n",
       "    </tr>\n",
       "  </thead>\n",
       "  <tbody>\n",
       "    <tr>\n",
       "      <th>0</th>\n",
       "      <td>1</td>\n",
       "      <td>0.000000</td>\n",
       "      <td>0.497009</td>\n",
       "      <td>0.10</td>\n",
       "      <td>0.0</td>\n",
       "      <td>0.132956</td>\n",
       "      <td>0.678031</td>\n",
       "      <td>0.273166</td>\n",
       "      <td>0.585445</td>\n",
       "      <td>0.743663</td>\n",
       "      <td>...</td>\n",
       "      <td>0</td>\n",
       "      <td>0</td>\n",
       "      <td>0</td>\n",
       "      <td>0</td>\n",
       "      <td>0</td>\n",
       "      <td>0</td>\n",
       "      <td>0</td>\n",
       "      <td>0</td>\n",
       "      <td>0</td>\n",
       "      <td>0</td>\n",
       "    </tr>\n",
       "    <tr>\n",
       "      <th>1</th>\n",
       "      <td>1</td>\n",
       "      <td>0.366667</td>\n",
       "      <td>0.606291</td>\n",
       "      <td>0.05</td>\n",
       "      <td>0.0</td>\n",
       "      <td>0.111209</td>\n",
       "      <td>0.803455</td>\n",
       "      <td>0.106105</td>\n",
       "      <td>0.411754</td>\n",
       "      <td>0.836582</td>\n",
       "      <td>...</td>\n",
       "      <td>1</td>\n",
       "      <td>1</td>\n",
       "      <td>1</td>\n",
       "      <td>1</td>\n",
       "      <td>0</td>\n",
       "      <td>1</td>\n",
       "      <td>0</td>\n",
       "      <td>0</td>\n",
       "      <td>1</td>\n",
       "      <td>0</td>\n",
       "    </tr>\n",
       "    <tr>\n",
       "      <th>2</th>\n",
       "      <td>1</td>\n",
       "      <td>0.033300</td>\n",
       "      <td>0.480124</td>\n",
       "      <td>0.00</td>\n",
       "      <td>0.0</td>\n",
       "      <td>0.209791</td>\n",
       "      <td>0.610350</td>\n",
       "      <td>0.356453</td>\n",
       "      <td>0.517720</td>\n",
       "      <td>0.679051</td>\n",
       "      <td>...</td>\n",
       "      <td>0</td>\n",
       "      <td>0</td>\n",
       "      <td>0</td>\n",
       "      <td>0</td>\n",
       "      <td>0</td>\n",
       "      <td>0</td>\n",
       "      <td>0</td>\n",
       "      <td>0</td>\n",
       "      <td>0</td>\n",
       "      <td>0</td>\n",
       "    </tr>\n",
       "    <tr>\n",
       "      <th>3</th>\n",
       "      <td>1</td>\n",
       "      <td>0.000000</td>\n",
       "      <td>0.538825</td>\n",
       "      <td>0.00</td>\n",
       "      <td>0.5</td>\n",
       "      <td>0.196344</td>\n",
       "      <td>0.724230</td>\n",
       "      <td>0.235606</td>\n",
       "      <td>0.288764</td>\n",
       "      <td>0.805110</td>\n",
       "      <td>...</td>\n",
       "      <td>0</td>\n",
       "      <td>0</td>\n",
       "      <td>0</td>\n",
       "      <td>0</td>\n",
       "      <td>0</td>\n",
       "      <td>0</td>\n",
       "      <td>0</td>\n",
       "      <td>0</td>\n",
       "      <td>0</td>\n",
       "      <td>0</td>\n",
       "    </tr>\n",
       "    <tr>\n",
       "      <th>4</th>\n",
       "      <td>0</td>\n",
       "      <td>0.100000</td>\n",
       "      <td>0.517794</td>\n",
       "      <td>0.00</td>\n",
       "      <td>0.0</td>\n",
       "      <td>0.494734</td>\n",
       "      <td>0.781422</td>\n",
       "      <td>0.154361</td>\n",
       "      <td>0.303809</td>\n",
       "      <td>0.812646</td>\n",
       "      <td>...</td>\n",
       "      <td>0</td>\n",
       "      <td>0</td>\n",
       "      <td>0</td>\n",
       "      <td>0</td>\n",
       "      <td>0</td>\n",
       "      <td>0</td>\n",
       "      <td>0</td>\n",
       "      <td>0</td>\n",
       "      <td>0</td>\n",
       "      <td>0</td>\n",
       "    </tr>\n",
       "  </tbody>\n",
       "</table>\n",
       "<p>5 rows × 1777 columns</p>\n",
       "</div>"
      ],
      "text/plain": [
       "   Activity        D1        D2    D3   D4        D5        D6        D7  \\\n",
       "0         1  0.000000  0.497009  0.10  0.0  0.132956  0.678031  0.273166   \n",
       "1         1  0.366667  0.606291  0.05  0.0  0.111209  0.803455  0.106105   \n",
       "2         1  0.033300  0.480124  0.00  0.0  0.209791  0.610350  0.356453   \n",
       "3         1  0.000000  0.538825  0.00  0.5  0.196344  0.724230  0.235606   \n",
       "4         0  0.100000  0.517794  0.00  0.0  0.494734  0.781422  0.154361   \n",
       "\n",
       "         D8        D9  ...    D1767  D1768  D1769  D1770  D1771  D1772  D1773  \\\n",
       "0  0.585445  0.743663  ...        0      0      0      0      0      0      0   \n",
       "1  0.411754  0.836582  ...        1      1      1      1      0      1      0   \n",
       "2  0.517720  0.679051  ...        0      0      0      0      0      0      0   \n",
       "3  0.288764  0.805110  ...        0      0      0      0      0      0      0   \n",
       "4  0.303809  0.812646  ...        0      0      0      0      0      0      0   \n",
       "\n",
       "   D1774  D1775  D1776  \n",
       "0      0      0      0  \n",
       "1      0      1      0  \n",
       "2      0      0      0  \n",
       "3      0      0      0  \n",
       "4      0      0      0  \n",
       "\n",
       "[5 rows x 1777 columns]"
      ]
     },
     "execution_count": 3,
     "metadata": {},
     "output_type": "execute_result"
    }
   ],
   "source": [
    "df.head()"
   ]
  },
  {
   "cell_type": "code",
   "execution_count": 4,
   "metadata": {},
   "outputs": [
    {
     "data": {
      "text/plain": [
       "(3751, 1777)"
      ]
     },
     "execution_count": 4,
     "metadata": {},
     "output_type": "execute_result"
    }
   ],
   "source": [
    "df.shape"
   ]
  },
  {
   "cell_type": "code",
   "execution_count": 5,
   "metadata": {},
   "outputs": [],
   "source": [
    "y=df['Activity'].values\n",
    "X=df.iloc[:,1:].values"
   ]
  },
  {
   "cell_type": "code",
   "execution_count": 6,
   "metadata": {},
   "outputs": [
    {
     "data": {
      "text/plain": [
       "array([[ 0.        ,  0.49700901,  0.1       , ...,  0.        ,\n",
       "         0.        ,  0.        ],\n",
       "       [ 0.36666667,  0.60629148,  0.05      , ...,  0.        ,\n",
       "         1.        ,  0.        ],\n",
       "       [ 0.0333    ,  0.48012427,  0.        , ...,  0.        ,\n",
       "         0.        ,  0.        ],\n",
       "       ..., \n",
       "       [ 0.2       ,  0.52056377,  0.        , ...,  0.        ,\n",
       "         0.        ,  0.        ],\n",
       "       [ 0.1       ,  0.7656462 ,  0.        , ...,  0.        ,\n",
       "         0.        ,  0.        ],\n",
       "       [ 0.13333333,  0.53395198,  0.        , ...,  0.        ,\n",
       "         0.        ,  0.        ]])"
      ]
     },
     "execution_count": 6,
     "metadata": {},
     "output_type": "execute_result"
    }
   ],
   "source": [
    "X"
   ]
  },
  {
   "cell_type": "code",
   "execution_count": 7,
   "metadata": {},
   "outputs": [],
   "source": [
    "from sklearn.model_selection import train_test_split\n",
    "from sklearn.ensemble import GradientBoostingClassifier, RandomForestClassifier\n",
    "from sklearn.metrics import log_loss\n",
    "X_train, X_test, y_train, y_test =train_test_split(X, y,test_size=0.8,random_state=241)"
   ]
  },
  {
   "cell_type": "code",
   "execution_count": 8,
   "metadata": {},
   "outputs": [
    {
     "name": "stdout",
     "output_type": "stream",
     "text": [
      "      Iter       Train Loss   Remaining Time \n",
      "         1           1.0190           12.98s\n",
      "         2           0.9192           12.09s\n",
      "         3           0.8272           10.39s\n",
      "         4           0.7834            9.27s\n",
      "         5           0.7109            8.93s\n",
      "         6           0.6368            9.35s\n",
      "         7           0.5797            9.21s\n",
      "         8           0.5610            8.68s\n",
      "         9           0.5185            8.50s\n",
      "        10           0.4984            8.17s\n",
      "        20           0.1999            7.76s\n",
      "        30           0.1313            6.98s\n",
      "        40           0.0790            6.62s\n",
      "        50           0.0511            6.24s\n",
      "        60           0.0352            5.92s\n",
      "        70           0.0245            5.52s\n",
      "        80           0.0162            5.23s\n",
      "        90           0.0114            4.89s\n",
      "       100           0.0077            4.61s\n",
      "       200           0.0004            1.34s\n",
      "      Iter       Train Loss   Remaining Time \n",
      "         1           1.1255           10.84s\n",
      "         2           1.0035           10.85s\n",
      "         3           0.9386           10.66s\n",
      "         4           0.8844            9.75s\n",
      "         5           0.8381            9.38s\n",
      "         6           0.7995            9.12s\n",
      "         7           0.7559            8.83s\n",
      "         8           0.7205            8.66s\n",
      "         9           0.6958            8.41s\n",
      "        10           0.6725            8.26s\n",
      "        20           0.4672            7.36s\n",
      "        30           0.3179            7.07s\n",
      "        40           0.2274            6.81s\n",
      "        50           0.1774            6.45s\n",
      "        60           0.1394            6.17s\n",
      "        70           0.1050            5.84s\n",
      "        80           0.0805            5.49s\n",
      "        90           0.0650            5.09s\n",
      "       100           0.0511            4.77s\n",
      "       200           0.0058            1.64s\n",
      "      Iter       Train Loss   Remaining Time \n",
      "         1           1.2095           11.12s\n",
      "         2           1.1006           11.18s\n",
      "         3           1.0240           11.06s\n",
      "         4           0.9729           11.00s\n",
      "         5           0.9387           10.32s\n",
      "         6           0.8948           11.06s\n",
      "         7           0.8621           10.89s\n",
      "         8           0.8360           10.73s\n",
      "         9           0.8171           10.50s\n",
      "        10           0.7883           10.62s\n",
      "        20           0.6164            9.51s\n",
      "        30           0.4933            9.17s\n",
      "        40           0.4248            8.52s\n",
      "        50           0.3345            8.23s\n",
      "        60           0.2760            8.02s\n",
      "        70           0.2263            7.83s\n",
      "        80           0.1971            7.32s\n",
      "        90           0.1693            6.83s\n",
      "       100           0.1388            6.36s\n",
      "       200           0.0294            2.00s\n",
      "      Iter       Train Loss   Remaining Time \n",
      "         1           1.2613           10.89s\n",
      "         2           1.1715           10.87s\n",
      "         3           1.1009           10.74s\n",
      "         4           1.0529           10.66s\n",
      "         5           1.0130           10.82s\n",
      "         6           0.9740           10.82s\n",
      "         7           0.9475           10.14s\n",
      "         8           0.9197           10.18s\n",
      "         9           0.8979            9.74s\n",
      "        10           0.8730            9.73s\n",
      "        20           0.7207            8.06s\n",
      "        30           0.6055            7.45s\n",
      "        40           0.5244            6.92s\n",
      "        50           0.4501            6.51s\n",
      "        60           0.3908            6.12s\n",
      "        70           0.3372            5.78s\n",
      "        80           0.3009            5.69s\n",
      "        90           0.2603            5.52s\n",
      "       100           0.2327            5.24s\n",
      "       200           0.0835            1.83s\n",
      "      Iter       Train Loss   Remaining Time \n",
      "         1           1.3199           10.81s\n",
      "         2           1.2645           10.78s\n",
      "         3           1.2170           10.68s\n",
      "         4           1.1775           10.67s\n",
      "         5           1.1404           10.74s\n",
      "         6           1.1106           10.79s\n",
      "         7           1.0844           10.72s\n",
      "         8           1.0617           10.63s\n",
      "         9           1.0411           10.56s\n",
      "        10           1.0223           10.57s\n",
      "        20           0.8864            9.42s\n",
      "        30           0.7844            8.48s\n",
      "        40           0.7176            7.67s\n",
      "        50           0.6590            7.02s\n",
      "        60           0.6120            6.49s\n",
      "        70           0.5599            6.10s\n",
      "        80           0.5242            5.67s\n",
      "        90           0.4829            5.30s\n",
      "       100           0.4473            4.93s\n",
      "       200           0.2379            1.59s\n"
     ]
    }
   ],
   "source": [
    "score_train=[]\n",
    "score_test=[]\n",
    "for i in [1, 0.5, 0.3, 0.2, 0.1]:\n",
    "    gbr =GradientBoostingClassifier(n_estimators=250, learning_rate=i, verbose=True, random_state=241)\n",
    "    gbr=gbr.fit(X_train, y_train)\n",
    "    test_score=[]\n",
    "    train_score=[]\n",
    "    for i, pred in enumerate(gbr.staged_decision_function(X_test)):    \n",
    "        test_score.append(log_loss(y_test, 1 / (1 + np.exp(-pred))))\n",
    "    score_test.append(test_score)\n",
    "    for i, pred in enumerate(gbr.staged_decision_function(X_train)):    \n",
    "        train_score.append(log_loss(y_train, 1 / (1 + np.exp(-pred))))\n",
    "    score_train.append(train_score)"
   ]
  },
  {
   "cell_type": "code",
   "execution_count": 9,
   "metadata": {},
   "outputs": [
    {
     "data": {
      "image/png": "[encoded data removed]",
      "text/plain": [
       "<matplotlib.figure.Figure at 0x7f637cde3f28>"
      ]
     },
     "metadata": {},
     "output_type": "display_data"
    },
    {
     "data": {
      "image/png": "[encoded data removed]",
      "text/plain": [
       "<matplotlib.figure.Figure at 0x7f6369400898>"
      ]
     },
     "metadata": {},
     "output_type": "display_data"
    },
    {
     "data": {
      "image/png": "[encoded data removed]",
      "text/plain": [
       "<matplotlib.figure.Figure at 0x7f6369408b70>"
      ]
     },
     "metadata": {},
     "output_type": "display_data"
    },
    {
     "data": {
      "image/png": "[encoded data removed]",
      "text/plain": [
       "<matplotlib.figure.Figure at 0x7f6369321d30>"
      ]
     },
     "metadata": {},
     "output_type": "display_data"
    }
   ],
   "source": [
    "import matplotlib.pyplot as plt\n",
    "%matplotlib inline\n",
    "for i in range(4):\n",
    "    plt.figure()\n",
    "    plt.plot(score_test[i], 'r', linewidth=2)\n",
    "    plt.plot(score_train[i], 'g', linewidth=2)\n",
    "    plt.xlabel(i)\n",
    "    plt.legend(['test', 'train'])\n",
    "    plt.show()"
   ]
  },
  {
   "cell_type": "code",
   "execution_count": 10,
   "metadata": {},
   "outputs": [
    {
     "name": "stdout",
     "output_type": "stream",
     "text": [
      "0.531450796319 36\n"
     ]
    }
   ],
   "source": [
    "print(min(score_test[3]), score_test[3].index(min(score_test[3])))"
   ]
  },
  {
   "cell_type": "code",
   "execution_count": 11,
   "metadata": {},
   "outputs": [
    {
     "data": {
      "text/plain": [
       "array([[ 0.2972973 ,  0.7027027 ],\n",
       "       [ 0.78378378,  0.21621622],\n",
       "       [ 0.59459459,  0.40540541],\n",
       "       ..., \n",
       "       [ 0.62162162,  0.37837838],\n",
       "       [ 0.67567568,  0.32432432],\n",
       "       [ 0.27027027,  0.72972973]])"
      ]
     },
     "execution_count": 11,
     "metadata": {},
     "output_type": "execute_result"
    }
   ],
   "source": [
    "gbr_randfor=RandomForestClassifier(n_estimators=37, random_state=241)\n",
    "gbr_randfor.fit(X_train, y_train)\n",
    "gbr_randfor.predict_proba(X_test)"
   ]
  },
  {
   "cell_type": "code",
   "execution_count": 12,
   "metadata": {},
   "outputs": [
    {
     "data": {
      "text/plain": [
       "0.54091190993698968"
      ]
     },
     "execution_count": 12,
     "metadata": {},
     "output_type": "execute_result"
    }
   ],
   "source": [
    "log_loss(y_test, gbr_randfor.predict_proba(X_test))"
   ]
  },
  {
   "cell_type": "code",
   "execution_count": 13,
   "metadata": {},
   "outputs": [
    {
     "data": {
      "text/plain": [
       "0.52671899891359675"
      ]
     },
     "execution_count": 13,
     "metadata": {},
     "output_type": "execute_result"
    }
   ],
   "source": [
    "gbr_randfor=RandomForestClassifier(n_estimators=150, random_state=241)\n",
    "gbr_randfor.fit(X_train, y_train)\n",
    "log_loss(y_test, gbr_randfor.predict_proba(X_test))"
   ]
  },
  {
   "cell_type": "code",
   "execution_count": null,
   "metadata": {},
   "outputs": [],
   "source": []
  },
  {
   "cell_type": "code",
   "execution_count": null,
   "metadata": {},
   "outputs": [],
   "source": []
  }
 ],
 "metadata": {
  "kernelspec": {
   "display_name": "Python 3",
   "language": "python",
   "name": "python3"
  },
  "language_info": {
   "codemirror_mode": {
    "name": "ipython",
    "version": 3
   },
   "file_extension": ".py",
   "mimetype": "text/x-python",
   "name": "python",
   "nbconvert_exporter": "python",
   "pygments_lexer": "ipython3",
   "version": "3.6.4"
  }
 },
 "nbformat": 4,
 "nbformat_minor": 2
}
