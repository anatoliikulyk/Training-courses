{
 "cells": [
  {
   "cell_type": "code",
   "execution_count": 1,
   "metadata": {},
   "outputs": [],
   "source": [
    "import numpy as np\n",
    "import pandas as pd\n",
    "import itertools\n",
    "import seaborn as sns\n",
    "import scipy\n",
    "from scipy import stats\n",
    "from statsmodels.stats.descriptivestats import sign_test\n",
    "from statsmodels.stats.weightstats import zconfint\n",
    "\n",
    "from statsmodels.stats.weightstats import *\n",
    "from statsmodels.stats.proportion import proportion_confint"
   ]
  },
  {
   "cell_type": "code",
   "execution_count": 2,
   "metadata": {},
   "outputs": [
    {
     "name": "stdout",
     "output_type": "stream",
     "text": [
      "Populating the interactive namespace from numpy and matplotlib\n"
     ]
    }
   ],
   "source": [
    "%pylab inline"
   ]
  },
  {
   "cell_type": "code",
   "execution_count": 3,
   "metadata": {},
   "outputs": [],
   "source": [
    "df = pd.read_csv('credit_card_default_analysis.csv')"
   ]
  },
  {
   "cell_type": "code",
   "execution_count": 4,
   "metadata": {},
   "outputs": [
    {
     "data": {
      "text/html": [
       "<div>\n",
       "<style scoped>\n",
       "    .dataframe tbody tr th:only-of-type {\n",
       "        vertical-align: middle;\n",
       "    }\n",
       "\n",
       "    .dataframe tbody tr th {\n",
       "        vertical-align: top;\n",
       "    }\n",
       "\n",
       "    .dataframe thead th {\n",
       "        text-align: right;\n",
       "    }\n",
       "</style>\n",
       "<table border=\"1\" class=\"dataframe\">\n",
       "  <thead>\n",
       "    <tr style=\"text-align: right;\">\n",
       "      <th></th>\n",
       "      <th>ID</th>\n",
       "      <th>LIMIT_BAL</th>\n",
       "      <th>SEX</th>\n",
       "      <th>EDUCATION</th>\n",
       "      <th>MARRIAGE</th>\n",
       "      <th>AGE</th>\n",
       "      <th>PAY_0</th>\n",
       "      <th>PAY_2</th>\n",
       "      <th>PAY_3</th>\n",
       "      <th>PAY_4</th>\n",
       "      <th>...</th>\n",
       "      <th>BILL_AMT4</th>\n",
       "      <th>BILL_AMT5</th>\n",
       "      <th>BILL_AMT6</th>\n",
       "      <th>PAY_AMT1</th>\n",
       "      <th>PAY_AMT2</th>\n",
       "      <th>PAY_AMT3</th>\n",
       "      <th>PAY_AMT4</th>\n",
       "      <th>PAY_AMT5</th>\n",
       "      <th>PAY_AMT6</th>\n",
       "      <th>default</th>\n",
       "    </tr>\n",
       "  </thead>\n",
       "  <tbody>\n",
       "    <tr>\n",
       "      <th>0</th>\n",
       "      <td>1</td>\n",
       "      <td>20000</td>\n",
       "      <td>2</td>\n",
       "      <td>2</td>\n",
       "      <td>1</td>\n",
       "      <td>24</td>\n",
       "      <td>2</td>\n",
       "      <td>2</td>\n",
       "      <td>0</td>\n",
       "      <td>0</td>\n",
       "      <td>...</td>\n",
       "      <td>0</td>\n",
       "      <td>0</td>\n",
       "      <td>0</td>\n",
       "      <td>0</td>\n",
       "      <td>689</td>\n",
       "      <td>0</td>\n",
       "      <td>0</td>\n",
       "      <td>0</td>\n",
       "      <td>0</td>\n",
       "      <td>1</td>\n",
       "    </tr>\n",
       "    <tr>\n",
       "      <th>1</th>\n",
       "      <td>2</td>\n",
       "      <td>120000</td>\n",
       "      <td>2</td>\n",
       "      <td>2</td>\n",
       "      <td>2</td>\n",
       "      <td>26</td>\n",
       "      <td>0</td>\n",
       "      <td>2</td>\n",
       "      <td>0</td>\n",
       "      <td>0</td>\n",
       "      <td>...</td>\n",
       "      <td>3272</td>\n",
       "      <td>3455</td>\n",
       "      <td>3261</td>\n",
       "      <td>0</td>\n",
       "      <td>1000</td>\n",
       "      <td>1000</td>\n",
       "      <td>1000</td>\n",
       "      <td>0</td>\n",
       "      <td>2000</td>\n",
       "      <td>1</td>\n",
       "    </tr>\n",
       "    <tr>\n",
       "      <th>2</th>\n",
       "      <td>3</td>\n",
       "      <td>90000</td>\n",
       "      <td>2</td>\n",
       "      <td>2</td>\n",
       "      <td>2</td>\n",
       "      <td>34</td>\n",
       "      <td>0</td>\n",
       "      <td>0</td>\n",
       "      <td>0</td>\n",
       "      <td>0</td>\n",
       "      <td>...</td>\n",
       "      <td>14331</td>\n",
       "      <td>14948</td>\n",
       "      <td>15549</td>\n",
       "      <td>1518</td>\n",
       "      <td>1500</td>\n",
       "      <td>1000</td>\n",
       "      <td>1000</td>\n",
       "      <td>1000</td>\n",
       "      <td>5000</td>\n",
       "      <td>0</td>\n",
       "    </tr>\n",
       "    <tr>\n",
       "      <th>3</th>\n",
       "      <td>4</td>\n",
       "      <td>50000</td>\n",
       "      <td>2</td>\n",
       "      <td>2</td>\n",
       "      <td>1</td>\n",
       "      <td>37</td>\n",
       "      <td>0</td>\n",
       "      <td>0</td>\n",
       "      <td>0</td>\n",
       "      <td>0</td>\n",
       "      <td>...</td>\n",
       "      <td>28314</td>\n",
       "      <td>28959</td>\n",
       "      <td>29547</td>\n",
       "      <td>2000</td>\n",
       "      <td>2019</td>\n",
       "      <td>1200</td>\n",
       "      <td>1100</td>\n",
       "      <td>1069</td>\n",
       "      <td>1000</td>\n",
       "      <td>0</td>\n",
       "    </tr>\n",
       "    <tr>\n",
       "      <th>4</th>\n",
       "      <td>5</td>\n",
       "      <td>50000</td>\n",
       "      <td>1</td>\n",
       "      <td>2</td>\n",
       "      <td>1</td>\n",
       "      <td>57</td>\n",
       "      <td>0</td>\n",
       "      <td>0</td>\n",
       "      <td>0</td>\n",
       "      <td>0</td>\n",
       "      <td>...</td>\n",
       "      <td>20940</td>\n",
       "      <td>19146</td>\n",
       "      <td>19131</td>\n",
       "      <td>2000</td>\n",
       "      <td>36681</td>\n",
       "      <td>10000</td>\n",
       "      <td>9000</td>\n",
       "      <td>689</td>\n",
       "      <td>679</td>\n",
       "      <td>0</td>\n",
       "    </tr>\n",
       "  </tbody>\n",
       "</table>\n",
       "<p>5 rows × 25 columns</p>\n",
       "</div>"
      ],
      "text/plain": [
       "   ID  LIMIT_BAL  SEX  EDUCATION  MARRIAGE  AGE  PAY_0  PAY_2  PAY_3  PAY_4  \\\n",
       "0   1      20000    2          2         1   24      2      2      0      0   \n",
       "1   2     120000    2          2         2   26      0      2      0      0   \n",
       "2   3      90000    2          2         2   34      0      0      0      0   \n",
       "3   4      50000    2          2         1   37      0      0      0      0   \n",
       "4   5      50000    1          2         1   57      0      0      0      0   \n",
       "\n",
       "    ...     BILL_AMT4  BILL_AMT5  BILL_AMT6  PAY_AMT1  PAY_AMT2  PAY_AMT3  \\\n",
       "0   ...             0          0          0         0       689         0   \n",
       "1   ...          3272       3455       3261         0      1000      1000   \n",
       "2   ...         14331      14948      15549      1518      1500      1000   \n",
       "3   ...         28314      28959      29547      2000      2019      1200   \n",
       "4   ...         20940      19146      19131      2000     36681     10000   \n",
       "\n",
       "   PAY_AMT4  PAY_AMT5  PAY_AMT6  default  \n",
       "0         0         0         0        1  \n",
       "1      1000         0      2000        1  \n",
       "2      1000      1000      5000        0  \n",
       "3      1100      1069      1000        0  \n",
       "4      9000       689       679        0  \n",
       "\n",
       "[5 rows x 25 columns]"
      ]
     },
     "execution_count": 4,
     "metadata": {},
     "output_type": "execute_result"
    }
   ],
   "source": [
    "df.head()"
   ]
  },
  {
   "cell_type": "code",
   "execution_count": 5,
   "metadata": {},
   "outputs": [],
   "source": [
    "df = df[['default', 'LIMIT_BAL','SEX', 'EDUCATION', 'MARRIAGE', 'AGE']]"
   ]
  },
  {
   "cell_type": "code",
   "execution_count": 6,
   "metadata": {},
   "outputs": [
    {
     "data": {
      "image/png": "[encoded data removed]",
      "text/plain": [
       "<Figure size 1008x720 with 6 Axes>"
      ]
     },
     "metadata": {},
     "output_type": "display_data"
    }
   ],
   "source": [
    "figsize(14,10)\n",
    "df.hist()\n",
    "plt.show()"
   ]
  },
  {
   "cell_type": "code",
   "execution_count": 7,
   "metadata": {},
   "outputs": [
    {
     "data": {
      "text/plain": [
       "(30000, 6)"
      ]
     },
     "execution_count": 7,
     "metadata": {},
     "output_type": "execute_result"
    }
   ],
   "source": [
    "df.shape"
   ]
  },
  {
   "cell_type": "code",
   "execution_count": 8,
   "metadata": {},
   "outputs": [
    {
     "data": {
      "text/plain": [
       "0    0.7788\n",
       "1    0.2212\n",
       "Name: default, dtype: float64"
      ]
     },
     "execution_count": 8,
     "metadata": {},
     "output_type": "execute_result"
    }
   ],
   "source": [
    "# Number of people by feature\n",
    "df['default'].value_counts(1)"
   ]
  },
  {
   "cell_type": "code",
   "execution_count": 9,
   "metadata": {},
   "outputs": [],
   "source": [
    "# Separate the file for those who turned (0) and did not return (1)¶\n",
    "df_0 = df[df['default']  == 0]\n",
    "df_1 = df[df['default']  == 1]"
   ]
  },
  {
   "cell_type": "code",
   "execution_count": 10,
   "metadata": {},
   "outputs": [
    {
     "data": {
      "image/png": "[encoded data removed]",
      "text/plain": [
       "<Figure size 1008x576 with 6 Axes>"
      ]
     },
     "metadata": {},
     "output_type": "display_data"
    }
   ],
   "source": [
    "# Returned loan\n",
    "figsize(14,8)\n",
    "df_0.hist()\n",
    "plt.show()"
   ]
  },
  {
   "cell_type": "code",
   "execution_count": 11,
   "metadata": {},
   "outputs": [
    {
     "data": {
      "image/png": "[encoded data removed]",
      "text/plain": [
       "<Figure size 1008x576 with 6 Axes>"
      ]
     },
     "metadata": {},
     "output_type": "display_data"
    }
   ],
   "source": [
    "# Not returned loan\n",
    "figsize(14,8)\n",
    "df_1.hist()\n",
    "plt.show()"
   ]
  },
  {
   "cell_type": "markdown",
   "metadata": {},
   "source": [
    "### 1.LIMIT_BAL"
   ]
  },
  {
   "cell_type": "code",
   "execution_count": 12,
   "metadata": {},
   "outputs": [],
   "source": [
    "df_0_LIMIT_BAL = df[df['default']  == 0]['LIMIT_BAL']\n",
    "df_1_LIMIT_BAL = df[df['default']  == 1]['LIMIT_BAL']"
   ]
  },
  {
   "cell_type": "code",
   "execution_count": 13,
   "metadata": {},
   "outputs": [
    {
     "data": {
      "image/png": "[encoded data removed]",
      "text/plain": [
       "<Figure size 864x288 with 1 Axes>"
      ]
     },
     "metadata": {},
     "output_type": "display_data"
    }
   ],
   "source": [
    "# Data analysis\n",
    "pylab.figure(figsize=(12,4))\n",
    "\n",
    "#pylab.subplot(1,2,1)\n",
    "pylab.grid()\n",
    "pylab.hist(df_0.LIMIT_BAL, color = 'g', bins=50)\n",
    "pylab.xlabel('Loan back')\n",
    "\n",
    "#pylab.subplot(1,2,2)\n",
    "pylab.grid()\n",
    "pylab.hist(df_1['LIMIT_BAL'], color = 'r', bins = 50)\n",
    "pylab.xlabel('Unloan back')\n",
    "\n",
    "pylab.show()"
   ]
  },
  {
   "cell_type": "code",
   "execution_count": 14,
   "metadata": {},
   "outputs": [
    {
     "name": "stdout",
     "output_type": "stream",
     "text": [
      "95% confidence interval for the mean for lock back: [176411.914497, 179787.537651]\n"
     ]
    }
   ],
   "source": [
    "# Confidence interval for df_0\n",
    "print ('95%% confidence interval for the mean for lock back: [%f, %f]' % zconfint(df_0['LIMIT_BAL']))"
   ]
  },
  {
   "cell_type": "code",
   "execution_count": 15,
   "metadata": {},
   "outputs": [
    {
     "name": "stdout",
     "output_type": "stream",
     "text": [
      "95% confidence interval for the mean for unlock back: [127333.653340, 132885.659499]\n"
     ]
    }
   ],
   "source": [
    "# Confidence interval for df_1\n",
    "print ('95%% confidence interval for the mean for unlock back: [%f, %f]' % zconfint(df_1['LIMIT_BAL']))"
   ]
  },
  {
   "cell_type": "code",
   "execution_count": 16,
   "metadata": {},
   "outputs": [
    {
     "name": "stdout",
     "output_type": "stream",
     "text": [
      "95% confidence interval for the mean for unlock back: [-51485.572278, -44494.567031]\n"
     ]
    }
   ],
   "source": [
    "print ('95%% confidence interval for the mean for unlock back: [%f, %f]' % zconfint(df_1['LIMIT_BAL'], df_0['LIMIT_BAL']))"
   ]
  },
  {
   "cell_type": "code",
   "execution_count": 17,
   "metadata": {},
   "outputs": [
    {
     "data": {
      "text/plain": [
       "MannwhitneyuResult(statistic=59257217.5, pvalue=6.127742909111652e-190)"
      ]
     },
     "execution_count": 17,
     "metadata": {},
     "output_type": "execute_result"
    }
   ],
   "source": [
    "# Ранговый критерий Манна-Уитни\n",
    "stats.mannwhitneyu(df_0['LIMIT_BAL'], df_1['LIMIT_BAL'])"
   ]
  },
  {
   "cell_type": "markdown",
   "metadata": {},
   "source": [
    "### Перестановочный критерий"
   ]
  },
  {
   "cell_type": "code",
   "execution_count": 18,
   "metadata": {},
   "outputs": [],
   "source": [
    "def permutation_t_stat_ind(sample1, sample2):\n",
    "    return np.mean(sample1) - np.mean(sample2)"
   ]
  },
  {
   "cell_type": "code",
   "execution_count": 19,
   "metadata": {},
   "outputs": [],
   "source": [
    "def get_random_combinations(n1, n2, max_combinations):\n",
    "    index = list(range(n1 + n2))\n",
    "    indices = set([tuple(index)])\n",
    "    for i in range(max_combinations - 1):\n",
    "        np.random.shuffle(index)\n",
    "        indices.add(tuple(index))\n",
    "    return [(index[:n1], index[n1:]) for index in indices]"
   ]
  },
  {
   "cell_type": "code",
   "execution_count": 20,
   "metadata": {},
   "outputs": [],
   "source": [
    "def permutation_zero_dist_ind(sample1, sample2, max_combinations = None):\n",
    "    joined_sample = np.hstack((sample1, sample2))\n",
    "    n1 = len(sample1)\n",
    "    n = len(joined_sample)\n",
    "    \n",
    "    if max_combinations:\n",
    "        indices = get_random_combinations(n1, len(sample2), max_combinations)\n",
    "    else:\n",
    "        indices = [(list(index), filter(lambda i: i not in index, range(n))) \\\n",
    "                    for index in itertools.combinations(range(n), n1)]\n",
    "    \n",
    "    distr = [joined_sample[list(i[0])].mean() - joined_sample[list(i[1])].mean() \\\n",
    "             for i in indices]\n",
    "    return distr"
   ]
  },
  {
   "cell_type": "code",
   "execution_count": 21,
   "metadata": {},
   "outputs": [
    {
     "data": {
      "image/png": "[encoded data removed]",
      "text/plain": [
       "<Figure size 1008x576 with 1 Axes>"
      ]
     },
     "metadata": {},
     "output_type": "display_data"
    }
   ],
   "source": [
    "pylab.hist(permutation_zero_dist_ind(df_0['LIMIT_BAL'], df_1['LIMIT_BAL'], max_combinations = 1000))\n",
    "pylab.show()"
   ]
  },
  {
   "cell_type": "code",
   "execution_count": 22,
   "metadata": {},
   "outputs": [],
   "source": [
    "def permutation_test(sample, mean, max_permutations = None, alternative = 'two-sided'):\n",
    "    if alternative not in ('two-sided', 'less', 'greater'):\n",
    "        raise ValueError(\"alternative not recognized\\n\"\n",
    "                         \"should be 'two-sided', 'less' or 'greater'\")\n",
    "    \n",
    "    t_stat = permutation_t_stat_ind(sample, mean)\n",
    "    \n",
    "    zero_distr = permutation_zero_dist_ind(sample, mean, max_permutations)\n",
    "    \n",
    "    if alternative == 'two-sided':\n",
    "        return sum([1. if abs(x) >= abs(t_stat) else 0. for x in zero_distr]) / len(zero_distr)\n",
    "    \n",
    "    if alternative == 'less':\n",
    "        return sum([1. if x <= t_stat else 0. for x in zero_distr]) / len(zero_distr)\n",
    "\n",
    "    if alternative == 'greater':\n",
    "        return sum([1. if x >= t_stat else 0. for x in zero_distr]) / len(zero_distr)"
   ]
  },
  {
   "cell_type": "code",
   "execution_count": 23,
   "metadata": {},
   "outputs": [
    {
     "name": "stdout",
     "output_type": "stream",
     "text": [
      "p-value: 0.010000\n"
     ]
    }
   ],
   "source": [
    "print (\"p-value: %f\" % permutation_test(df_0['LIMIT_BAL'], df_1['LIMIT_BAL'], max_permutations = 100))"
   ]
  },
  {
   "cell_type": "code",
   "execution_count": null,
   "metadata": {},
   "outputs": [],
   "source": []
  },
  {
   "cell_type": "markdown",
   "metadata": {},
   "source": [
    "## 2.SEX"
   ]
  },
  {
   "cell_type": "code",
   "execution_count": 24,
   "metadata": {},
   "outputs": [],
   "source": [
    "df_0 = df[df['default'] == 0]['SEX'] # returned loan\n",
    "df_1 = df[df['default'] == 1]['SEX'] # not returned loan"
   ]
  },
  {
   "cell_type": "code",
   "execution_count": 25,
   "metadata": {},
   "outputs": [
    {
     "name": "stdout",
     "output_type": "stream",
     "text": [
      "2873\n",
      "9015\n"
     ]
    }
   ],
   "source": [
    "# Replace Female == 0\n",
    "df_1 = df_1.replace(2,0)\n",
    "df_0 = df_0.replace(2,0)\n",
    "print(sum(df_1)) \n",
    "print(sum(df_0))"
   ]
  },
  {
   "cell_type": "code",
   "execution_count": 26,
   "metadata": {},
   "outputs": [
    {
     "data": {
      "image/png": "[encoded data removed]",
      "text/plain": [
       "<Figure size 1008x576 with 1 Axes>"
      ]
     },
     "metadata": {},
     "output_type": "display_data"
    }
   ],
   "source": [
    "df_0.value_counts(1).plot.barh()\n",
    "plt.title('Distribution Male and Female returned loan')\n",
    "plt.show()"
   ]
  },
  {
   "cell_type": "code",
   "execution_count": 27,
   "metadata": {},
   "outputs": [
    {
     "data": {
      "image/png": "[encoded data removed]",
      "text/plain": [
       "<Figure size 1008x576 with 1 Axes>"
      ]
     },
     "metadata": {},
     "output_type": "display_data"
    }
   ],
   "source": [
    "df_1.value_counts(1).plot.barh()\n",
    "plt.title('Distribution Male and Female not returned loan')\n",
    "plt.show()"
   ]
  },
  {
   "cell_type": "code",
   "execution_count": 28,
   "metadata": {},
   "outputs": [],
   "source": [
    "conf_interval_turned_male = proportion_confint(sum(df_0),df_0.shape[0], method = 'wilson')\n",
    "conf_interval_not_turned_male = proportion_confint(sum(df_1), df_1.shape[0], method = 'wilson')"
   ]
  },
  {
   "cell_type": "code",
   "execution_count": 29,
   "metadata": {},
   "outputs": [
    {
     "name": "stdout",
     "output_type": "stream",
     "text": [
      "95% confidence interval turned_male: [0.379627, 0.392110]\n",
      "95% confidence interval not_turned_male: [0.421062, 0.444898]\n"
     ]
    }
   ],
   "source": [
    "print ('95%% confidence interval turned_male: [%f, %f]' % conf_interval_turned_male)\n",
    "print ('95%% confidence interval not_turned_male: [%f, %f]' % conf_interval_not_turned_male)"
   ]
  },
  {
   "cell_type": "code",
   "execution_count": 30,
   "metadata": {},
   "outputs": [],
   "source": [
    "def proportions_diff_confint_ind(sample1, sample2, alpha = 0.05):    \n",
    "    z = scipy.stats.norm.ppf(1 - alpha / 2.)\n",
    "    \n",
    "    p1 = float(sum(sample1)) / len(sample1)\n",
    "    p2 = float(sum(sample2)) / len(sample2)\n",
    "    \n",
    "    left_boundary = (p1 - p2) - z * np.sqrt(p1 * (1 - p1)/ len(sample1) + p2 * (1 - p2)/ len(sample2))\n",
    "    right_boundary = (p1 - p2) + z * np.sqrt(p1 * (1 - p1)/ len(sample1) + p2 * (1 - p2)/ len(sample2))\n",
    "    \n",
    "    return (left_boundary, right_boundary)"
   ]
  },
  {
   "cell_type": "code",
   "execution_count": 31,
   "metadata": {},
   "outputs": [],
   "source": [
    "def proportions_diff_z_stat_ind(sample1, sample2):\n",
    "    n1 = len(sample1)\n",
    "    n2 = len(sample2)\n",
    "    \n",
    "    p1 = float(sum(sample1)) / n1\n",
    "    p2 = float(sum(sample2)) / n2 \n",
    "    P = float(p1*n1 + p2*n2) / (n1 + n2)\n",
    "    \n",
    "    return (p1 - p2) / np.sqrt(P * (1 - P) * (1. / n1 + 1. / n2))"
   ]
  },
  {
   "cell_type": "code",
   "execution_count": 32,
   "metadata": {},
   "outputs": [],
   "source": [
    "def proportions_diff_z_test(z_stat, alternative = 'two-sided'):\n",
    "    if alternative not in ('two-sided', 'less', 'greater'):\n",
    "        raise ValueError(\"alternative not recognized\\n\"\n",
    "                         \"should be 'two-sided', 'less' or 'greater'\")\n",
    "    \n",
    "    if alternative == 'two-sided':\n",
    "        return 2 * (1 - scipy.stats.norm.cdf(np.abs(z_stat)))\n",
    "    \n",
    "    if alternative == 'less':\n",
    "        return scipy.stats.norm.cdf(z_stat)\n",
    "\n",
    "    if alternative == 'greater':\n",
    "        return 1 - scipy.stats.norm.cdf(z_stat)"
   ]
  },
  {
   "cell_type": "code",
   "execution_count": 33,
   "metadata": {},
   "outputs": [
    {
     "name": "stdout",
     "output_type": "stream",
     "text": [
      "95% confidence interval for a difference between proportions: [-0.060548, -0.033635]\n"
     ]
    }
   ],
   "source": [
    "print (\"95%% confidence interval for a difference between proportions: [%f, %f]\" %\\\n",
    "      proportions_diff_confint_ind(df_0, df_1))"
   ]
  },
  {
   "cell_type": "code",
   "execution_count": 34,
   "metadata": {},
   "outputs": [
    {
     "name": "stdout",
     "output_type": "stream",
     "text": [
      "p-value: 0.000000\n"
     ]
    }
   ],
   "source": [
    "print (\"p-value: %f\" % proportions_diff_z_test(proportions_diff_z_stat_ind(df_0, df_1)))"
   ]
  },
  {
   "cell_type": "code",
   "execution_count": 35,
   "metadata": {},
   "outputs": [
    {
     "name": "stdout",
     "output_type": "stream",
     "text": [
      "p-value: 0.000000\n"
     ]
    }
   ],
   "source": [
    "print (\"p-value: %f\" % proportions_diff_z_test(proportions_diff_z_stat_ind(df_0, df_1), 'less'))"
   ]
  },
  {
   "cell_type": "code",
   "execution_count": 36,
   "metadata": {},
   "outputs": [
    {
     "name": "stdout",
     "output_type": "stream",
     "text": [
      "      default      LIMIT_BAL  EDUCATION  MARRIAGE        AGE\n",
      "SEX                                                         \n",
      "1    0.241672  163519.825034   1.839250  1.572090  36.519431\n",
      "2    0.207763  170086.462014   1.862246  1.538593  34.806868\n"
     ]
    }
   ],
   "source": [
    "gender_data = df.groupby(['SEX'])\n",
    "print (gender_data.mean())"
   ]
  },
  {
   "cell_type": "code",
   "execution_count": null,
   "metadata": {},
   "outputs": [],
   "source": []
  },
  {
   "cell_type": "markdown",
   "metadata": {},
   "source": [
    "## 3.EDUCATION"
   ]
  },
  {
   "cell_type": "code",
   "execution_count": 37,
   "metadata": {},
   "outputs": [],
   "source": [
    "df_0_EDUCATION = df[df['default']  == 0]['EDUCATION']\n",
    "df_1_EDUCATION = df[df['default']  == 1]['EDUCATION']"
   ]
  },
  {
   "cell_type": "code",
   "execution_count": 38,
   "metadata": {},
   "outputs": [
    {
     "name": "stderr",
     "output_type": "stream",
     "text": [
      "C:\\ProgramData\\Anaconda3\\lib\\site-packages\\ipykernel_launcher.py:1: UserWarning: Boolean Series key will be reindexed to match DataFrame index.\n",
      "  \"\"\"Entry point for launching an IPython kernel.\n",
      "C:\\ProgramData\\Anaconda3\\lib\\site-packages\\ipykernel_launcher.py:2: UserWarning: Boolean Series key will be reindexed to match DataFrame index.\n",
      "  \n",
      "C:\\ProgramData\\Anaconda3\\lib\\site-packages\\ipykernel_launcher.py:3: UserWarning: Boolean Series key will be reindexed to match DataFrame index.\n",
      "  This is separate from the ipykernel package so we can avoid doing imports until\n",
      "C:\\ProgramData\\Anaconda3\\lib\\site-packages\\ipykernel_launcher.py:4: UserWarning: Boolean Series key will be reindexed to match DataFrame index.\n",
      "  after removing the cwd from sys.path.\n",
      "C:\\ProgramData\\Anaconda3\\lib\\site-packages\\ipykernel_launcher.py:5: UserWarning: Boolean Series key will be reindexed to match DataFrame index.\n",
      "  \"\"\"\n",
      "C:\\ProgramData\\Anaconda3\\lib\\site-packages\\ipykernel_launcher.py:6: UserWarning: Boolean Series key will be reindexed to match DataFrame index.\n",
      "  \n",
      "C:\\ProgramData\\Anaconda3\\lib\\site-packages\\ipykernel_launcher.py:7: UserWarning: Boolean Series key will be reindexed to match DataFrame index.\n",
      "  import sys\n",
      "C:\\ProgramData\\Anaconda3\\lib\\site-packages\\ipykernel_launcher.py:9: UserWarning: Boolean Series key will be reindexed to match DataFrame index.\n",
      "  if __name__ == '__main__':\n",
      "C:\\ProgramData\\Anaconda3\\lib\\site-packages\\ipykernel_launcher.py:10: UserWarning: Boolean Series key will be reindexed to match DataFrame index.\n",
      "  # Remove the CWD from sys.path while we load stuff.\n",
      "C:\\ProgramData\\Anaconda3\\lib\\site-packages\\ipykernel_launcher.py:11: UserWarning: Boolean Series key will be reindexed to match DataFrame index.\n",
      "  # This is added back by InteractiveShellApp.init_path()\n",
      "C:\\ProgramData\\Anaconda3\\lib\\site-packages\\ipykernel_launcher.py:12: UserWarning: Boolean Series key will be reindexed to match DataFrame index.\n",
      "  if sys.path[0] == '':\n",
      "C:\\ProgramData\\Anaconda3\\lib\\site-packages\\ipykernel_launcher.py:13: UserWarning: Boolean Series key will be reindexed to match DataFrame index.\n",
      "  del sys.path[0]\n",
      "C:\\ProgramData\\Anaconda3\\lib\\site-packages\\ipykernel_launcher.py:14: UserWarning: Boolean Series key will be reindexed to match DataFrame index.\n",
      "  \n",
      "C:\\ProgramData\\Anaconda3\\lib\\site-packages\\ipykernel_launcher.py:15: UserWarning: Boolean Series key will be reindexed to match DataFrame index.\n",
      "  from ipykernel import kernelapp as app\n"
     ]
    }
   ],
   "source": [
    "df00 = df[df['default'] == 0][df['EDUCATION'] == 0]['EDUCATION']\n",
    "df01 = df[df['default'] == 0][df['EDUCATION'] == 1]['EDUCATION']\n",
    "df02 = df[df['default'] == 0][df['EDUCATION'] == 2]['EDUCATION']\n",
    "df03 = df[df['default'] == 0][df['EDUCATION'] == 3]['EDUCATION']\n",
    "df04 = df[df['default'] == 0][df['EDUCATION'] == 4]['EDUCATION']\n",
    "df05 = df[df['default'] == 0][df['EDUCATION'] == 5]['EDUCATION']\n",
    "df06 = df[df['default'] == 0][df['EDUCATION'] == 6]['EDUCATION']\n",
    "\n",
    "df10 = df[df['default'] == 1][df['EDUCATION'] == 0]['EDUCATION']\n",
    "df11 = df[df['default'] == 1][df['EDUCATION'] == 1]['EDUCATION']\n",
    "df12 = df[df['default'] == 1][df['EDUCATION'] == 2]['EDUCATION']\n",
    "df13 = df[df['default'] == 1][df['EDUCATION'] == 3]['EDUCATION']\n",
    "df14 = df[df['default'] == 1][df['EDUCATION'] == 4]['EDUCATION']\n",
    "df15 = df[df['default'] == 1][df['EDUCATION'] == 5]['EDUCATION']\n",
    "df16 = df[df['default'] == 1][df['EDUCATION'] == 6]['EDUCATION']\n"
   ]
  },
  {
   "cell_type": "code",
   "execution_count": 39,
   "metadata": {},
   "outputs": [],
   "source": [
    "# 0\n",
    "conf_interval_turned_education_0 = proportion_confint(len(df00), len(df_0_EDUCATION), method = 'wilson')\n",
    "conf_interval_not_turned_education_0 = proportion_confint(len(df10), len(df_1_EDUCATION), method = 'wilson')\n",
    "#1\n",
    "conf_interval_turned_education_1 = proportion_confint(len(df01), len(df_0_EDUCATION), method = 'wilson')\n",
    "conf_interval_not_turned_education_1 = proportion_confint(len(df11), len(df_1_EDUCATION), method = 'wilson')\n",
    "#2\n",
    "conf_interval_turned_education_2 = proportion_confint(len(df02), len(df_0_EDUCATION), method = 'wilson')\n",
    "conf_interval_not_turned_education_2 = proportion_confint(len(df12), len(df_1_EDUCATION), method = 'wilson')\n",
    "#3\n",
    "conf_interval_turned_education_3 = proportion_confint(len(df03), len(df_0_EDUCATION), method = 'wilson')\n",
    "conf_interval_not_turned_education_3 = proportion_confint(len(df13), len(df_1_EDUCATION), method = 'wilson')\n",
    "#4\n",
    "conf_interval_turned_education_4 = proportion_confint(len(df04),len(df_0_EDUCATION), method = 'wilson')\n",
    "conf_interval_not_turned_education_4 = proportion_confint(len(df14), len(df_1_EDUCATION), method = 'wilson')\n",
    "#5\n",
    "conf_interval_turned_education_5 = proportion_confint(len(df05), len(df_0_EDUCATION), method = 'wilson')\n",
    "conf_interval_not_turned_education_5 = proportion_confint(len(df15), len(df_1_EDUCATION), method = 'wilson')\n",
    "#6\n",
    "conf_interval_turned_education_6 = proportion_confint(len(df06), len(df_0_EDUCATION), method = 'wilson')\n",
    "conf_interval_not_turned_education_6 = proportion_confint(len(df16), len(df_1_EDUCATION), method = 'wilson')\n",
    "\n"
   ]
  },
  {
   "cell_type": "code",
   "execution_count": 40,
   "metadata": {},
   "outputs": [
    {
     "name": "stdout",
     "output_type": "stream",
     "text": [
      "95% confidence interval turned_education_0: [0.000357, 0.001006]\n",
      "95% confidence interval not turned_education_0: [0.000000, 0.000579]\n",
      "\n",
      "95% confidence interval turned_education_1: [0.359751, 0.372103]\n",
      "95% confidence interval not turned_education_1: [0.295830, 0.318016]\n",
      "\n",
      "95% confidence interval turned_education_2: [0.451588, 0.464364]\n",
      "95% confidence interval not turned_education_2: [0.489781, 0.513834]\n",
      "\n",
      "95% confidence interval turned_education_3: [0.152893, 0.162235]\n",
      "95% confidence interval not turned_education_3: [0.177220, 0.195958]\n",
      "\n",
      "95% confidence interval turned_education_4: [0.004141, 0.005951]\n",
      "95% confidence interval not turned_education_4: [0.000511, 0.002176]\n",
      "\n",
      "95% confidence interval turned_education_5: [0.009942, 0.012647]\n",
      "95% confidence interval not turned_education_5: [0.001717, 0.004284]\n",
      "\n",
      "95% confidence interval turned_education_6: [0.001367, 0.002478]\n",
      "95% confidence interval not turned_education_6: [0.000611, 0.002377]\n"
     ]
    }
   ],
   "source": [
    "print ('95%% confidence interval turned_education_0: [%f, %f]' % conf_interval_turned_education_0)\n",
    "print ('95%% confidence interval not turned_education_0: [%f, %f]' % conf_interval_not_turned_education_0)\n",
    "print('')\n",
    "print ('95%% confidence interval turned_education_1: [%f, %f]' % conf_interval_turned_education_1)\n",
    "print ('95%% confidence interval not turned_education_1: [%f, %f]' % conf_interval_not_turned_education_1)\n",
    "print('')\n",
    "print ('95%% confidence interval turned_education_2: [%f, %f]' % conf_interval_turned_education_2)\n",
    "print ('95%% confidence interval not turned_education_2: [%f, %f]' % conf_interval_not_turned_education_2)\n",
    "print('')\n",
    "print ('95%% confidence interval turned_education_3: [%f, %f]' % conf_interval_turned_education_3)\n",
    "print ('95%% confidence interval not turned_education_3: [%f, %f]' % conf_interval_not_turned_education_3)\n",
    "print('')\n",
    "print ('95%% confidence interval turned_education_4: [%f, %f]' % conf_interval_turned_education_4)\n",
    "print ('95%% confidence interval not turned_education_4: [%f, %f]' % conf_interval_not_turned_education_4)\n",
    "print('')\n",
    "print ('95%% confidence interval turned_education_5: [%f, %f]' % conf_interval_turned_education_5)\n",
    "print ('95%% confidence interval not turned_education_5: [%f, %f]' % conf_interval_not_turned_education_5)\n",
    "print('')\n",
    "print ('95%% confidence interval turned_education_6: [%f, %f]' % conf_interval_turned_education_6)\n",
    "print ('95%% confidence interval not turned_education_6: [%f, %f]' % conf_interval_not_turned_education_6)\n",
    "\n"
   ]
  },
  {
   "cell_type": "code",
   "execution_count": 41,
   "metadata": {},
   "outputs": [
    {
     "name": "stdout",
     "output_type": "stream",
     "text": [
      "            default      LIMIT_BAL       SEX  MARRIAGE        AGE\n",
      "EDUCATION                                                        \n",
      "0          0.000000  217142.857143  1.428571  1.714286  38.857143\n",
      "1          0.192348  212956.069910  1.588663  1.652338  34.231838\n",
      "2          0.237349  147062.437634  1.616964  1.523022  34.722096\n",
      "3          0.251576  126550.270490  1.595282  1.421192  40.299980\n",
      "4          0.056911  220894.308943  1.658537  1.601626  33.853659\n",
      "5          0.064286  168164.285714  1.660714  1.475000  35.600000\n",
      "6          0.156863  148235.294118  1.509804  1.490196  43.901961\n"
     ]
    }
   ],
   "source": [
    "education_data = df.groupby(['EDUCATION'])\n",
    "print (education_data.mean())"
   ]
  },
  {
   "cell_type": "code",
   "execution_count": 42,
   "metadata": {},
   "outputs": [
    {
     "data": {
      "text/plain": [
       "2    14030\n",
       "1    10585\n",
       "3     4917\n",
       "5      280\n",
       "4      123\n",
       "6       51\n",
       "0       14\n",
       "Name: EDUCATION, dtype: int64"
      ]
     },
     "execution_count": 42,
     "metadata": {},
     "output_type": "execute_result"
    }
   ],
   "source": [
    "df.EDUCATION.value_counts()"
   ]
  },
  {
   "cell_type": "code",
   "execution_count": 43,
   "metadata": {},
   "outputs": [],
   "source": [
    "df4 = pd.DataFrame({\"0\": [len(df00)/len(df_0_EDUCATION), len(df10)/len(df_1_EDUCATION)],\n",
    "                   \"1\":[len(df01)/len(df_0_EDUCATION), len(df11)/len(df_1_EDUCATION)],\n",
    "                   \"2\": [len(df02)/len(df_0_EDUCATION), len(df12)/len(df_1_EDUCATION)],\n",
    "                    \"3\":[len(df03)/len(df_0_EDUCATION), len(df13)/len(df_1_EDUCATION)],\n",
    "                   \"4\": [len(df04)/len(df_0_EDUCATION), len(df14)/len(df_1_EDUCATION)],\n",
    "                  \"5\": [len(df05)/len(df_0_EDUCATION), len(df15)/len(df_1_EDUCATION)],\n",
    "                   \"6\": [len(df06)/len(df_0_EDUCATION), len(df16)/len(df_1_EDUCATION)]})"
   ]
  },
  {
   "cell_type": "code",
   "execution_count": 44,
   "metadata": {},
   "outputs": [
    {
     "data": {
      "text/html": [
       "<div>\n",
       "<style scoped>\n",
       "    .dataframe tbody tr th:only-of-type {\n",
       "        vertical-align: middle;\n",
       "    }\n",
       "\n",
       "    .dataframe tbody tr th {\n",
       "        vertical-align: top;\n",
       "    }\n",
       "\n",
       "    .dataframe thead th {\n",
       "        text-align: right;\n",
       "    }\n",
       "</style>\n",
       "<table border=\"1\" class=\"dataframe\">\n",
       "  <thead>\n",
       "    <tr style=\"text-align: right;\">\n",
       "      <th></th>\n",
       "      <th>0</th>\n",
       "      <th>1</th>\n",
       "      <th>2</th>\n",
       "      <th>3</th>\n",
       "      <th>4</th>\n",
       "      <th>5</th>\n",
       "      <th>6</th>\n",
       "    </tr>\n",
       "  </thead>\n",
       "  <tbody>\n",
       "    <tr>\n",
       "      <th>0</th>\n",
       "      <td>0.001</td>\n",
       "      <td>0.366</td>\n",
       "      <td>0.458</td>\n",
       "      <td>0.158</td>\n",
       "      <td>0.005</td>\n",
       "      <td>0.011</td>\n",
       "      <td>0.002</td>\n",
       "    </tr>\n",
       "    <tr>\n",
       "      <th>1</th>\n",
       "      <td>0.000</td>\n",
       "      <td>0.307</td>\n",
       "      <td>0.502</td>\n",
       "      <td>0.186</td>\n",
       "      <td>0.001</td>\n",
       "      <td>0.003</td>\n",
       "      <td>0.001</td>\n",
       "    </tr>\n",
       "  </tbody>\n",
       "</table>\n",
       "</div>"
      ],
      "text/plain": [
       "       0      1      2      3      4      5      6\n",
       "0  0.001  0.366  0.458  0.158  0.005  0.011  0.002\n",
       "1  0.000  0.307  0.502  0.186  0.001  0.003  0.001"
      ]
     },
     "execution_count": 44,
     "metadata": {},
     "output_type": "execute_result"
    }
   ],
   "source": [
    "round(df4,3)"
   ]
  },
  {
   "cell_type": "code",
   "execution_count": 45,
   "metadata": {},
   "outputs": [],
   "source": [
    "df4 = df4.transpose()"
   ]
  },
  {
   "cell_type": "code",
   "execution_count": 46,
   "metadata": {},
   "outputs": [
    {
     "data": {
      "text/plain": [
       "0    1.0\n",
       "1    1.0\n",
       "dtype: float64"
      ]
     },
     "execution_count": 46,
     "metadata": {},
     "output_type": "execute_result"
    }
   ],
   "source": [
    "sum(df4)"
   ]
  },
  {
   "cell_type": "code",
   "execution_count": 47,
   "metadata": {},
   "outputs": [
    {
     "data": {
      "text/plain": [
       "0    1.0\n",
       "1    1.0\n",
       "dtype: float64"
      ]
     },
     "execution_count": 47,
     "metadata": {},
     "output_type": "execute_result"
    }
   ],
   "source": [
    "round(sum(df4),3)"
   ]
  },
  {
   "cell_type": "code",
   "execution_count": 48,
   "metadata": {},
   "outputs": [
    {
     "data": {
      "text/html": [
       "<div>\n",
       "<style scoped>\n",
       "    .dataframe tbody tr th:only-of-type {\n",
       "        vertical-align: middle;\n",
       "    }\n",
       "\n",
       "    .dataframe tbody tr th {\n",
       "        vertical-align: top;\n",
       "    }\n",
       "\n",
       "    .dataframe thead th {\n",
       "        text-align: right;\n",
       "    }\n",
       "</style>\n",
       "<table border=\"1\" class=\"dataframe\">\n",
       "  <thead>\n",
       "    <tr style=\"text-align: right;\">\n",
       "      <th></th>\n",
       "      <th>0</th>\n",
       "      <th>1</th>\n",
       "      <th>2</th>\n",
       "      <th>3</th>\n",
       "      <th>4</th>\n",
       "      <th>5</th>\n",
       "      <th>6</th>\n",
       "    </tr>\n",
       "  </thead>\n",
       "  <tbody>\n",
       "    <tr>\n",
       "      <th>0</th>\n",
       "      <td>1.0</td>\n",
       "      <td>0.808</td>\n",
       "      <td>0.763</td>\n",
       "      <td>0.748</td>\n",
       "      <td>0.943</td>\n",
       "      <td>0.936</td>\n",
       "      <td>0.843</td>\n",
       "    </tr>\n",
       "    <tr>\n",
       "      <th>1</th>\n",
       "      <td>0.0</td>\n",
       "      <td>0.192</td>\n",
       "      <td>0.237</td>\n",
       "      <td>0.252</td>\n",
       "      <td>0.057</td>\n",
       "      <td>0.064</td>\n",
       "      <td>0.157</td>\n",
       "    </tr>\n",
       "  </tbody>\n",
       "</table>\n",
       "</div>"
      ],
      "text/plain": [
       "     0      1      2      3      4      5      6\n",
       "0  1.0  0.808  0.763  0.748  0.943  0.936  0.843\n",
       "1  0.0  0.192  0.237  0.252  0.057  0.064  0.157"
      ]
     },
     "execution_count": 48,
     "metadata": {},
     "output_type": "execute_result"
    }
   ],
   "source": [
    "df41 = pd.DataFrame({\"0\": [len(df00)/(len(df00)+ len(df10)), len(df10)/(len(df00)+ len(df10))],\n",
    "                   \"1\":[len(df01)/(len(df01)+ len(df11)), len(df11)/(len(df01)+ len(df11))],\n",
    "                   \"2\": [len(df02)/(len(df02)+ len(df12)), len(df12)/(len(df02)+ len(df12))],\n",
    "                    \"3\":[len(df03)/(len(df03)+ len(df13)), len(df13)/(len(df03)+ len(df13))],\n",
    "                   \"4\": [len(df04)/(len(df04)+ len(df14)), len(df14)/(len(df04)+ len(df14))],\n",
    "                  \"5\": [len(df05)/(len(df05)+ len(df15)), len(df15)/(len(df05)+ len(df15))],\n",
    "                   \"6\": [len(df06)/(len(df06)+ len(df16)), len(df16)/(len(df06)+ len(df16))]})\n",
    "round(df41,3)"
   ]
  },
  {
   "cell_type": "code",
   "execution_count": null,
   "metadata": {},
   "outputs": [],
   "source": []
  },
  {
   "cell_type": "code",
   "execution_count": null,
   "metadata": {},
   "outputs": [],
   "source": []
  },
  {
   "cell_type": "code",
   "execution_count": null,
   "metadata": {},
   "outputs": [],
   "source": []
  },
  {
   "cell_type": "markdown",
   "metadata": {},
   "source": [
    "## 4. MARRIAGE"
   ]
  },
  {
   "cell_type": "code",
   "execution_count": 49,
   "metadata": {},
   "outputs": [
    {
     "name": "stdout",
     "output_type": "stream",
     "text": [
      "23364 6636\n"
     ]
    }
   ],
   "source": [
    "df_0_MARRIAGE = df[df['default']  == 0]['MARRIAGE']\n",
    "df_1_MARRIAGE = df[df['default']  == 1]['MARRIAGE']\n",
    "print(len(df[df['default']  == 0]), len(df_1_MARRIAGE))"
   ]
  },
  {
   "cell_type": "code",
   "execution_count": 50,
   "metadata": {},
   "outputs": [
    {
     "name": "stdout",
     "output_type": "stream",
     "text": [
      "2    12623\n",
      "1    10453\n",
      "3      239\n",
      "0       49\n",
      "Name: MARRIAGE, dtype: int64\n",
      "2    3341\n",
      "1    3206\n",
      "3      84\n",
      "0       5\n",
      "Name: MARRIAGE, dtype: int64\n"
     ]
    }
   ],
   "source": [
    "print(df_0_MARRIAGE.value_counts())\n",
    "print(df_1_MARRIAGE.value_counts())"
   ]
  },
  {
   "cell_type": "code",
   "execution_count": 51,
   "metadata": {},
   "outputs": [
    {
     "name": "stderr",
     "output_type": "stream",
     "text": [
      "C:\\ProgramData\\Anaconda3\\lib\\site-packages\\ipykernel_launcher.py:2: UserWarning: Boolean Series key will be reindexed to match DataFrame index.\n",
      "  \n",
      "C:\\ProgramData\\Anaconda3\\lib\\site-packages\\ipykernel_launcher.py:3: UserWarning: Boolean Series key will be reindexed to match DataFrame index.\n",
      "  This is separate from the ipykernel package so we can avoid doing imports until\n",
      "C:\\ProgramData\\Anaconda3\\lib\\site-packages\\ipykernel_launcher.py:5: UserWarning: Boolean Series key will be reindexed to match DataFrame index.\n",
      "  \"\"\"\n",
      "C:\\ProgramData\\Anaconda3\\lib\\site-packages\\ipykernel_launcher.py:6: UserWarning: Boolean Series key will be reindexed to match DataFrame index.\n",
      "  \n",
      "C:\\ProgramData\\Anaconda3\\lib\\site-packages\\ipykernel_launcher.py:8: UserWarning: Boolean Series key will be reindexed to match DataFrame index.\n",
      "  \n",
      "C:\\ProgramData\\Anaconda3\\lib\\site-packages\\ipykernel_launcher.py:9: UserWarning: Boolean Series key will be reindexed to match DataFrame index.\n",
      "  if __name__ == '__main__':\n",
      "C:\\ProgramData\\Anaconda3\\lib\\site-packages\\ipykernel_launcher.py:11: UserWarning: Boolean Series key will be reindexed to match DataFrame index.\n",
      "  # This is added back by InteractiveShellApp.init_path()\n",
      "C:\\ProgramData\\Anaconda3\\lib\\site-packages\\ipykernel_launcher.py:12: UserWarning: Boolean Series key will be reindexed to match DataFrame index.\n",
      "  if sys.path[0] == '':\n"
     ]
    }
   ],
   "source": [
    "#0\n",
    "df_marriage_00 = df[df['default'] == 0][df['MARRIAGE'] == 0]['MARRIAGE']\n",
    "df_marriage_01 = df[df['default'] == 1][df['MARRIAGE'] == 0]['MARRIAGE']\n",
    "#1\n",
    "df_marriage_10 = df[df['default'] == 0][df['MARRIAGE'] == 1]['MARRIAGE']\n",
    "df_marriage_11 = df[df['default'] == 1][df['MARRIAGE'] == 1]['MARRIAGE']\n",
    "#2\n",
    "df_marriage_20 = df[df['default'] == 0][df['MARRIAGE'] == 2]['MARRIAGE']\n",
    "df_marriage_21 = df[df['default'] == 1][df['MARRIAGE'] == 2]['MARRIAGE']\n",
    "#3\n",
    "df_marriage_30 = df[df['default'] == 0][df['MARRIAGE'] == 3]['MARRIAGE']\n",
    "df_marriage_31 = df[df['default'] == 1][df['MARRIAGE'] == 3]['MARRIAGE']"
   ]
  },
  {
   "cell_type": "code",
   "execution_count": 52,
   "metadata": {},
   "outputs": [
    {
     "data": {
      "text/plain": [
       "3341"
      ]
     },
     "execution_count": 52,
     "metadata": {},
     "output_type": "execute_result"
    }
   ],
   "source": [
    "len(df_marriage_21)"
   ]
  },
  {
   "cell_type": "code",
   "execution_count": 53,
   "metadata": {},
   "outputs": [
    {
     "data": {
      "text/html": [
       "<div>\n",
       "<style scoped>\n",
       "    .dataframe tbody tr th:only-of-type {\n",
       "        vertical-align: middle;\n",
       "    }\n",
       "\n",
       "    .dataframe tbody tr th {\n",
       "        vertical-align: top;\n",
       "    }\n",
       "\n",
       "    .dataframe thead th {\n",
       "        text-align: right;\n",
       "    }\n",
       "</style>\n",
       "<table border=\"1\" class=\"dataframe\">\n",
       "  <thead>\n",
       "    <tr style=\"text-align: right;\">\n",
       "      <th></th>\n",
       "      <th>0</th>\n",
       "      <th>1</th>\n",
       "      <th>2</th>\n",
       "      <th>3</th>\n",
       "    </tr>\n",
       "  </thead>\n",
       "  <tbody>\n",
       "    <tr>\n",
       "      <th>0</th>\n",
       "      <td>0.002097</td>\n",
       "      <td>0.447398</td>\n",
       "      <td>0.540276</td>\n",
       "      <td>0.010229</td>\n",
       "    </tr>\n",
       "    <tr>\n",
       "      <th>1</th>\n",
       "      <td>0.000753</td>\n",
       "      <td>0.483122</td>\n",
       "      <td>0.503466</td>\n",
       "      <td>0.012658</td>\n",
       "    </tr>\n",
       "  </tbody>\n",
       "</table>\n",
       "</div>"
      ],
      "text/plain": [
       "          0         1         2         3\n",
       "0  0.002097  0.447398  0.540276  0.010229\n",
       "1  0.000753  0.483122  0.503466  0.012658"
      ]
     },
     "execution_count": 53,
     "metadata": {},
     "output_type": "execute_result"
    }
   ],
   "source": [
    "df_table_marriage = pd.DataFrame({\"0\": [len(df_marriage_00)/df_0.shape[0], len(df_marriage_01)/df_1.shape[0]],\n",
    "                   \"1\":[len(df_marriage_10)/df_0.shape[0], len(df_marriage_11)/df_1.shape[0]],\n",
    "                   \"2\": [len(df_marriage_20)/df_0.shape[0], len(df_marriage_21)/df_1.shape[0]],\n",
    "                    \"3\":[len(df_marriage_30)/df_0.shape[0], len(df_marriage_31)/df_1.shape[0]]})\n",
    "df_table_marriage"
   ]
  },
  {
   "cell_type": "code",
   "execution_count": 54,
   "metadata": {},
   "outputs": [],
   "source": [
    "# 0\n",
    "conf_interval_turned_marriage_0 = proportion_confint(len(df_marriage_00), df_0.shape[0], method = 'wilson')\n",
    "conf_interval_not_turned_marriage_0 = proportion_confint(len(df_marriage_01), df_1.shape[0], method = 'wilson')\n",
    "#1\n",
    "conf_interval_turned_marriage_1 = proportion_confint(len(df_marriage_10), df_0.shape[0], method = 'wilson')\n",
    "conf_interval_not_turned_marriage_1 = proportion_confint(len(df_marriage_11), df_1.shape[0], method = 'wilson')\n",
    "#2\n",
    "conf_interval_turned_marriage_2 = proportion_confint(len(df_marriage_20), df_0.shape[0], method = 'wilson')\n",
    "conf_interval_not_turned_marriage_2 = proportion_confint(len(df_marriage_21), df_1.shape[0], method = 'wilson')\n",
    "#3\n",
    "conf_interval_turned_marriage_3 = proportion_confint(len(df_marriage_30), df_0.shape[0], method = 'wilson')\n",
    "conf_interval_not_turned_marriage_3 = proportion_confint(len(df_marriage_31), df_1.shape[0], method = 'wilson')"
   ]
  },
  {
   "cell_type": "code",
   "execution_count": 55,
   "metadata": {},
   "outputs": [
    {
     "name": "stdout",
     "output_type": "stream",
     "text": [
      "95% confidence interval turned_education_0: [0.001587, 0.002771]\n",
      "95% confidence interval not turned_education_0: [0.000322, 0.001763]\n",
      "\n",
      "95% confidence interval turned_education_0: [0.441031, 0.453782]\n",
      "95% confidence interval not turned_education_0: [0.471112, 0.495152]\n",
      "\n",
      "95% confidence interval turned_education_0: [0.533879, 0.546659]\n",
      "95% confidence interval not turned_education_0: [0.491438, 0.515490]\n",
      "\n",
      "95% confidence interval turned_education_0: [0.009017, 0.011603]\n",
      "95% confidence interval not turned_education_0: [0.010236, 0.015644]\n"
     ]
    }
   ],
   "source": [
    "print ('95%% confidence interval turned_education_0: [%f, %f]' % conf_interval_turned_marriage_0)\n",
    "print ('95%% confidence interval not turned_education_0: [%f, %f]' % conf_interval_not_turned_marriage_0)\n",
    "print('')\n",
    "print ('95%% confidence interval turned_education_0: [%f, %f]' % conf_interval_turned_marriage_1)\n",
    "print ('95%% confidence interval not turned_education_0: [%f, %f]' % conf_interval_not_turned_marriage_1)\n",
    "print('')\n",
    "print ('95%% confidence interval turned_education_0: [%f, %f]' % conf_interval_turned_marriage_2)\n",
    "print ('95%% confidence interval not turned_education_0: [%f, %f]' % conf_interval_not_turned_marriage_2)\n",
    "print('')\n",
    "print ('95%% confidence interval turned_education_0: [%f, %f]' % conf_interval_turned_marriage_3)\n",
    "print ('95%% confidence interval not turned_education_0: [%f, %f]' % conf_interval_not_turned_marriage_3)"
   ]
  },
  {
   "cell_type": "code",
   "execution_count": 56,
   "metadata": {},
   "outputs": [
    {
     "data": {
      "text/plain": [
       "MannwhitneyuResult(statistic=28560.5, pvalue=3.2584540605258184e-201)"
      ]
     },
     "execution_count": 56,
     "metadata": {},
     "output_type": "execute_result"
    }
   ],
   "source": [
    "stats.mannwhitneyu(df_marriage_30, df_0_MARRIAGE)"
   ]
  },
  {
   "cell_type": "code",
   "execution_count": 57,
   "metadata": {},
   "outputs": [
    {
     "name": "stdout",
     "output_type": "stream",
     "text": [
      "p-value: 0.001000\n"
     ]
    }
   ],
   "source": [
    "print (\"p-value: %f\" % permutation_test(df_0_MARRIAGE, df_1_MARRIAGE, max_permutations = 1000))"
   ]
  },
  {
   "cell_type": "code",
   "execution_count": 58,
   "metadata": {},
   "outputs": [
    {
     "data": {
      "image/png": "[encoded data removed]",
      "text/plain": [
       "<Figure size 576x288 with 1 Axes>"
      ]
     },
     "metadata": {},
     "output_type": "display_data"
    }
   ],
   "source": [
    "pylab.figure(figsize=(8,4))\n",
    "df['MARRIAGE'].value_counts(1).plot.barh()\n",
    "plt.show()"
   ]
  },
  {
   "cell_type": "markdown",
   "metadata": {},
   "source": [
    "## 5.AGE"
   ]
  },
  {
   "cell_type": "code",
   "execution_count": 59,
   "metadata": {},
   "outputs": [],
   "source": [
    "df_0_AGE = df[df['default']  == 0]['AGE']\n",
    "df_1_AGE = df[df['default']  == 1]['AGE']"
   ]
  },
  {
   "cell_type": "code",
   "execution_count": 60,
   "metadata": {},
   "outputs": [
    {
     "data": {
      "image/png": "[encoded data removed]",
      "text/plain": [
       "<Figure size 864x288 with 2 Axes>"
      ]
     },
     "metadata": {},
     "output_type": "display_data"
    }
   ],
   "source": [
    "# Data analysis\n",
    "pylab.figure(figsize=(12,4))\n",
    "\n",
    "pylab.subplot(1,2,1)\n",
    "pylab.grid()\n",
    "pylab.hist(df_0_AGE, color = 'g', bins=50)\n",
    "pylab.xlabel('Loan back')\n",
    "\n",
    "pylab.subplot(1,2,2)\n",
    "pylab.grid()\n",
    "pylab.hist(df_1_AGE, color = 'r', bins = 50)\n",
    "pylab.xlabel('Unloan back')\n",
    "\n",
    "pylab.show()"
   ]
  },
  {
   "cell_type": "code",
   "execution_count": 61,
   "metadata": {},
   "outputs": [
    {
     "name": "stdout",
     "output_type": "stream",
     "text": [
      "95% confidence interval for the mean for lock back: [35.300871, 35.533661]\n",
      "95% confidence interval for the mean for unlock back: [35.492515, 35.958962]\n"
     ]
    }
   ],
   "source": [
    "# Confidence interval for df_0_AGE\n",
    "print ('95%% confidence interval for the mean for lock back: [%f, %f]' % zconfint(df_0_AGE))\n",
    "# Confidence interval for df_1_AGE\n",
    "print ('95%% confidence interval for the mean for unlock back: [%f, %f]' % zconfint(df_1_AGE))"
   ]
  },
  {
   "cell_type": "code",
   "execution_count": 62,
   "metadata": {},
   "outputs": [
    {
     "data": {
      "text/plain": [
       "MannwhitneyuResult(statistic=76966879.5, pvalue=0.1862517717449308)"
      ]
     },
     "execution_count": 62,
     "metadata": {},
     "output_type": "execute_result"
    }
   ],
   "source": [
    "# Ранговый критерий Манна-Уитни\n",
    "stats.mannwhitneyu(df_0_AGE, df_1_AGE)"
   ]
  },
  {
   "cell_type": "markdown",
   "metadata": {},
   "source": [
    "### Commutation criterion"
   ]
  },
  {
   "cell_type": "code",
   "execution_count": 63,
   "metadata": {},
   "outputs": [
    {
     "data": {
      "image/png": "[encoded data removed]",
      "text/plain": [
       "<Figure size 432x288 with 1 Axes>"
      ]
     },
     "metadata": {},
     "output_type": "display_data"
    }
   ],
   "source": [
    "figsize(6,4)\n",
    "pylab.hist(permutation_zero_dist_ind(df_0_AGE, df_1_AGE, max_combinations = 1000))\n",
    "pylab.show()"
   ]
  },
  {
   "cell_type": "code",
   "execution_count": 64,
   "metadata": {},
   "outputs": [
    {
     "name": "stdout",
     "output_type": "stream",
     "text": [
      "p-value: 0.013000\n"
     ]
    }
   ],
   "source": [
    "print (\"p-value: %f\" % permutation_test(df_0_AGE, df_1_AGE, max_permutations = 1000))"
   ]
  },
  {
   "cell_type": "code",
   "execution_count": null,
   "metadata": {},
   "outputs": [],
   "source": []
  },
  {
   "cell_type": "code",
   "execution_count": null,
   "metadata": {},
   "outputs": [],
   "source": []
  },
  {
   "cell_type": "code",
   "execution_count": null,
   "metadata": {},
   "outputs": [],
   "source": []
  },
  {
   "cell_type": "code",
   "execution_count": null,
   "metadata": {},
   "outputs": [],
   "source": []
  },
  {
   "cell_type": "code",
   "execution_count": null,
   "metadata": {},
   "outputs": [],
   "source": []
  },
  {
   "cell_type": "code",
   "execution_count": 65,
   "metadata": {},
   "outputs": [
    {
     "data": {
      "text/plain": [
       "<matplotlib.axes._subplots.AxesSubplot at 0x1baf203e4e0>"
      ]
     },
     "execution_count": 65,
     "metadata": {},
     "output_type": "execute_result"
    },
    {
     "data": {
      "image/png": "[encoded data removed]",
      "text/plain": [
       "<Figure size 432x288 with 2 Axes>"
      ]
     },
     "metadata": {},
     "output_type": "display_data"
    }
   ],
   "source": [
    "sns.heatmap(df.corr(), annot=True)"
   ]
  },
  {
   "cell_type": "code",
   "execution_count": null,
   "metadata": {},
   "outputs": [],
   "source": []
  }
 ],
 "metadata": {
  "kernelspec": {
   "display_name": "Python 3",
   "language": "python",
   "name": "python3"
  },
  "language_info": {
   "codemirror_mode": {
    "name": "ipython",
    "version": 3
   },
   "file_extension": ".py",
   "mimetype": "text/x-python",
   "name": "python",
   "nbconvert_exporter": "python",
   "pygments_lexer": "ipython3",
   "version": "3.6.5"
  }
 },
 "nbformat": 4,
 "nbformat_minor": 2
}
