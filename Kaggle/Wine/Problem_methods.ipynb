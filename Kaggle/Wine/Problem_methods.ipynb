{
 "cells": [
  {
   "cell_type": "code",
   "execution_count": 1,
   "metadata": {
    "collapsed": true
   },
   "outputs": [],
   "source": [
    "import numpy as np # linear algebra\n",
    "import pandas as pd # data processing, CSV file I/O (e.g. pd.read_csv)\n",
    "import matplotlib.pyplot as plt\n",
    "import seaborn as sns\n",
    "\n",
    "%matplotlib inline"
   ]
  },
  {
   "cell_type": "code",
   "execution_count": 2,
   "metadata": {
    "collapsed": true
   },
   "outputs": [],
   "source": [
    "data = pd.read_csv(\"wine_with_geolocation.csv\")"
   ]
  },
  {
   "cell_type": "code",
   "execution_count": 3,
   "metadata": {},
   "outputs": [
    {
     "data": {
      "text/html": [
       "<div>\n",
       "<style scoped>\n",
       "    .dataframe tbody tr th:only-of-type {\n",
       "        vertical-align: middle;\n",
       "    }\n",
       "\n",
       "    .dataframe tbody tr th {\n",
       "        vertical-align: top;\n",
       "    }\n",
       "\n",
       "    .dataframe thead th {\n",
       "        text-align: right;\n",
       "    }\n",
       "</style>\n",
       "<table border=\"1\" class=\"dataframe\">\n",
       "  <thead>\n",
       "    <tr style=\"text-align: right;\">\n",
       "      <th></th>\n",
       "      <th>country</th>\n",
       "      <th>description</th>\n",
       "      <th>designation</th>\n",
       "      <th>points</th>\n",
       "      <th>price</th>\n",
       "      <th>province</th>\n",
       "      <th>region_1</th>\n",
       "      <th>region_2</th>\n",
       "      <th>variety</th>\n",
       "      <th>winery</th>\n",
       "      <th>latitude</th>\n",
       "      <th>longitude</th>\n",
       "    </tr>\n",
       "  </thead>\n",
       "  <tbody>\n",
       "    <tr>\n",
       "      <th>0</th>\n",
       "      <td>US</td>\n",
       "      <td>This tremendous 100% varietal wine hails from ...</td>\n",
       "      <td>Martha's Vineyard</td>\n",
       "      <td>96</td>\n",
       "      <td>235.0</td>\n",
       "      <td>California</td>\n",
       "      <td>Napa Valley</td>\n",
       "      <td>Napa</td>\n",
       "      <td>Cabernet Sauvignon</td>\n",
       "      <td>Heitz</td>\n",
       "      <td>38.297137</td>\n",
       "      <td>-122.285529</td>\n",
       "    </tr>\n",
       "    <tr>\n",
       "      <th>1</th>\n",
       "      <td>Spain</td>\n",
       "      <td>Ripe aromas of fig, blackberry and cassis are ...</td>\n",
       "      <td>Carodorum Selección Especial Reserva</td>\n",
       "      <td>96</td>\n",
       "      <td>110.0</td>\n",
       "      <td>Northern Spain</td>\n",
       "      <td>Toro</td>\n",
       "      <td>NaN</td>\n",
       "      <td>Tinta de Toro</td>\n",
       "      <td>Bodega Carmen Rodríguez</td>\n",
       "      <td>41.521696</td>\n",
       "      <td>-5.393982</td>\n",
       "    </tr>\n",
       "    <tr>\n",
       "      <th>2</th>\n",
       "      <td>US</td>\n",
       "      <td>Mac Watson honors the memory of a wine once ma...</td>\n",
       "      <td>Special Selected Late Harvest</td>\n",
       "      <td>96</td>\n",
       "      <td>90.0</td>\n",
       "      <td>California</td>\n",
       "      <td>Knights Valley</td>\n",
       "      <td>Sonoma</td>\n",
       "      <td>Sauvignon Blanc</td>\n",
       "      <td>Macauley</td>\n",
       "      <td>38.799624</td>\n",
       "      <td>-121.718297</td>\n",
       "    </tr>\n",
       "    <tr>\n",
       "      <th>3</th>\n",
       "      <td>US</td>\n",
       "      <td>This spent 20 months in 30% new French oak, an...</td>\n",
       "      <td>Reserve</td>\n",
       "      <td>96</td>\n",
       "      <td>65.0</td>\n",
       "      <td>Oregon</td>\n",
       "      <td>Willamette Valley</td>\n",
       "      <td>Willamette Valley</td>\n",
       "      <td>Pinot Noir</td>\n",
       "      <td>Ponzi</td>\n",
       "      <td>45.411007</td>\n",
       "      <td>-122.660652</td>\n",
       "    </tr>\n",
       "    <tr>\n",
       "      <th>4</th>\n",
       "      <td>France</td>\n",
       "      <td>This is the top wine from La Bégude, named aft...</td>\n",
       "      <td>La Brûlade</td>\n",
       "      <td>95</td>\n",
       "      <td>66.0</td>\n",
       "      <td>Provence</td>\n",
       "      <td>Bandol</td>\n",
       "      <td>NaN</td>\n",
       "      <td>Provence red blend</td>\n",
       "      <td>Domaine de la Bégude</td>\n",
       "      <td>43.135772</td>\n",
       "      <td>5.752365</td>\n",
       "    </tr>\n",
       "  </tbody>\n",
       "</table>\n",
       "</div>"
      ],
      "text/plain": [
       "  country                                        description  \\\n",
       "0      US  This tremendous 100% varietal wine hails from ...   \n",
       "1   Spain  Ripe aromas of fig, blackberry and cassis are ...   \n",
       "2      US  Mac Watson honors the memory of a wine once ma...   \n",
       "3      US  This spent 20 months in 30% new French oak, an...   \n",
       "4  France  This is the top wine from La Bégude, named aft...   \n",
       "\n",
       "                            designation  points  price        province  \\\n",
       "0                     Martha's Vineyard      96  235.0      California   \n",
       "1  Carodorum Selección Especial Reserva      96  110.0  Northern Spain   \n",
       "2         Special Selected Late Harvest      96   90.0      California   \n",
       "3                               Reserve      96   65.0          Oregon   \n",
       "4                            La Brûlade      95   66.0        Provence   \n",
       "\n",
       "            region_1           region_2             variety  \\\n",
       "0        Napa Valley               Napa  Cabernet Sauvignon   \n",
       "1               Toro                NaN       Tinta de Toro   \n",
       "2     Knights Valley             Sonoma     Sauvignon Blanc   \n",
       "3  Willamette Valley  Willamette Valley          Pinot Noir   \n",
       "4             Bandol                NaN  Provence red blend   \n",
       "\n",
       "                    winery   latitude   longitude  \n",
       "0                    Heitz  38.297137 -122.285529  \n",
       "1  Bodega Carmen Rodríguez  41.521696   -5.393982  \n",
       "2                 Macauley  38.799624 -121.718297  \n",
       "3                    Ponzi  45.411007 -122.660652  \n",
       "4     Domaine de la Bégude  43.135772    5.752365  "
      ]
     },
     "execution_count": 3,
     "metadata": {},
     "output_type": "execute_result"
    }
   ],
   "source": [
    "data.head()"
   ]
  },
  {
   "cell_type": "markdown",
   "metadata": {},
   "source": [
    "### Підготовка даних"
   ]
  },
  {
   "cell_type": "code",
   "execution_count": 4,
   "metadata": {
    "collapsed": true
   },
   "outputs": [],
   "source": [
    "data_new=data[[\"points\",\"price\", \"description\",\"country\",\"province\",\"region_1\",\"variety\",\"winery\",\"designation\",\n",
    "               \"latitude\",\"longitude\"]]"
   ]
  },
  {
   "cell_type": "code",
   "execution_count": 5,
   "metadata": {
    "collapsed": true
   },
   "outputs": [],
   "source": [
    "countries = data_new.country.value_counts(1)\n",
    "varieties = data_new.variety.value_counts(1)\n",
    "province=data_new.province.value_counts(1)\n",
    "region_1=data_new.region_1.value_counts(1)\n",
    "winery=data_new.winery.value_counts(1)\n",
    "designation=data_new.designation.value_counts(1)"
   ]
  },
  {
   "cell_type": "code",
   "execution_count": 6,
   "metadata": {
    "collapsed": true
   },
   "outputs": [],
   "source": [
    "# створили пустий масив\n",
    "data_columns_dummy=[]"
   ]
  },
  {
   "cell_type": "code",
   "execution_count": 7,
   "metadata": {
    "collapsed": true
   },
   "outputs": [],
   "source": [
    "#country\n",
    "for i in range(sum(countries>0.01)):\n",
    "    data_new['Dummy_'+countries.index[i]] = (data_new.country==countries.index[i])*1\n",
    "    data_columns_dummy.append('Dummy_'+countries.index[i])"
   ]
  },
  {
   "cell_type": "code",
   "execution_count": 8,
   "metadata": {
    "collapsed": true
   },
   "outputs": [],
   "source": [
    "# country*points\n",
    "for i in range(sum(countries>0.01)):\n",
    "    data_new['Dps_'+countries.index[i]] = ((data_new.country==countries.index[i])*1)*(data.points)\n",
    "    data_columns_dummy.append('Dps_'+countries.index[i])"
   ]
  },
  {
   "cell_type": "code",
   "execution_count": 9,
   "metadata": {
    "collapsed": true
   },
   "outputs": [],
   "source": [
    "#varieties\n",
    "for i in range(sum(varieties>0.007)):\n",
    "    data_new['Dummy_'+varieties.index[i]] = (data_new.variety==varieties.index[i])*1\n",
    "    data_columns_dummy.append('Dummy_'+varieties.index[i])"
   ]
  },
  {
   "cell_type": "code",
   "execution_count": 10,
   "metadata": {
    "collapsed": true
   },
   "outputs": [],
   "source": [
    "#varieties*points\n",
    "for i in range(sum(varieties>0.007)):\n",
    "    data_new['Dps_'+varieties.index[i]] = ((data_new.variety==varieties.index[i])*1)*(data.points)\n",
    "    data_columns_dummy.append('Dps_'+varieties.index[i])"
   ]
  },
  {
   "cell_type": "code",
   "execution_count": 11,
   "metadata": {
    "collapsed": true
   },
   "outputs": [],
   "source": [
    "#province\n",
    "for i in range(sum(province>0.01)):\n",
    "    data_new['Dummy_'+province.index[i]] = (data_new.province==province.index[i])*1\n",
    "    data_columns_dummy.append('Dummy_'+province.index[i])"
   ]
  },
  {
   "cell_type": "markdown",
   "metadata": {},
   "source": [
    "#provincepoints \n",
    "for i in range(sum(province>0.01)): datanew['Dps'+province.index[i]] = ((data_new.province==province.index[i])1)*(data.points) data_columnsdummy.append('Dps'+province.index[i])"
   ]
  },
  {
   "cell_type": "markdown",
   "metadata": {},
   "source": [
    "#region_1 for i in range(sum(region_1>0.01)): datanew['Dummy'+region_1.index[i]] = (data_new.region_1==region_1.index[i])*1 data_columnsdummy.append('Dummy'+region_1.index[i])"
   ]
  },
  {
   "cell_type": "markdown",
   "metadata": {},
   "source": [
    "#designation for i in range(sum(designation>0.001)): datanew['Dummy'+designation.index[i]] = (data_new.designation==designation.index[i])*1 data_columnsdummy.append('Dummy'+designation.index[i])"
   ]
  },
  {
   "cell_type": "markdown",
   "metadata": {},
   "source": [
    "#winery for i in range(sum(winery>0.001)): datanew['Dummy'+winery.index[i]] = (data_new.winery==winery.index[i])*1 data_columnsdummy.append('Dummy'+winery.index[i])"
   ]
  },
  {
   "cell_type": "markdown",
   "metadata": {},
   "source": [
    "#winerypoints for i in range(sum(winery>0.001)): datanew['Dps'+winery.index[i]] = ((data_new.winery==winery.index[i])1)*(data.points) data_columnsdummy.append('Dps'+winery.index[i])"
   ]
  },
  {
   "cell_type": "code",
   "execution_count": 12,
   "metadata": {},
   "outputs": [
    {
     "data": {
      "text/html": [
       "<div>\n",
       "<style scoped>\n",
       "    .dataframe tbody tr th:only-of-type {\n",
       "        vertical-align: middle;\n",
       "    }\n",
       "\n",
       "    .dataframe tbody tr th {\n",
       "        vertical-align: top;\n",
       "    }\n",
       "\n",
       "    .dataframe thead th {\n",
       "        text-align: right;\n",
       "    }\n",
       "</style>\n",
       "<table border=\"1\" class=\"dataframe\">\n",
       "  <thead>\n",
       "    <tr style=\"text-align: right;\">\n",
       "      <th></th>\n",
       "      <th>points</th>\n",
       "      <th>price</th>\n",
       "      <th>description</th>\n",
       "      <th>country</th>\n",
       "      <th>province</th>\n",
       "      <th>region_1</th>\n",
       "      <th>variety</th>\n",
       "      <th>winery</th>\n",
       "      <th>designation</th>\n",
       "      <th>latitude</th>\n",
       "      <th>...</th>\n",
       "      <th>Dummy_Burgundy</th>\n",
       "      <th>Dummy_Veneto</th>\n",
       "      <th>Dummy_South Australia</th>\n",
       "      <th>Dummy_Piedmont</th>\n",
       "      <th>Dummy_Bordeaux</th>\n",
       "      <th>Dummy_New York</th>\n",
       "      <th>Dummy_Sicily &amp; Sardinia</th>\n",
       "      <th>Dummy_Northeastern Italy</th>\n",
       "      <th>Dummy_Marlborough</th>\n",
       "      <th>Dummy_Loire Valley</th>\n",
       "    </tr>\n",
       "  </thead>\n",
       "  <tbody>\n",
       "    <tr>\n",
       "      <th>0</th>\n",
       "      <td>96</td>\n",
       "      <td>235.0</td>\n",
       "      <td>This tremendous 100% varietal wine hails from ...</td>\n",
       "      <td>US</td>\n",
       "      <td>California</td>\n",
       "      <td>Napa Valley</td>\n",
       "      <td>Cabernet Sauvignon</td>\n",
       "      <td>Heitz</td>\n",
       "      <td>Martha's Vineyard</td>\n",
       "      <td>38.297137</td>\n",
       "      <td>...</td>\n",
       "      <td>0</td>\n",
       "      <td>0</td>\n",
       "      <td>0</td>\n",
       "      <td>0</td>\n",
       "      <td>0</td>\n",
       "      <td>0</td>\n",
       "      <td>0</td>\n",
       "      <td>0</td>\n",
       "      <td>0</td>\n",
       "      <td>0</td>\n",
       "    </tr>\n",
       "    <tr>\n",
       "      <th>1</th>\n",
       "      <td>96</td>\n",
       "      <td>110.0</td>\n",
       "      <td>Ripe aromas of fig, blackberry and cassis are ...</td>\n",
       "      <td>Spain</td>\n",
       "      <td>Northern Spain</td>\n",
       "      <td>Toro</td>\n",
       "      <td>Tinta de Toro</td>\n",
       "      <td>Bodega Carmen Rodríguez</td>\n",
       "      <td>Carodorum Selección Especial Reserva</td>\n",
       "      <td>41.521696</td>\n",
       "      <td>...</td>\n",
       "      <td>0</td>\n",
       "      <td>0</td>\n",
       "      <td>0</td>\n",
       "      <td>0</td>\n",
       "      <td>0</td>\n",
       "      <td>0</td>\n",
       "      <td>0</td>\n",
       "      <td>0</td>\n",
       "      <td>0</td>\n",
       "      <td>0</td>\n",
       "    </tr>\n",
       "    <tr>\n",
       "      <th>2</th>\n",
       "      <td>96</td>\n",
       "      <td>90.0</td>\n",
       "      <td>Mac Watson honors the memory of a wine once ma...</td>\n",
       "      <td>US</td>\n",
       "      <td>California</td>\n",
       "      <td>Knights Valley</td>\n",
       "      <td>Sauvignon Blanc</td>\n",
       "      <td>Macauley</td>\n",
       "      <td>Special Selected Late Harvest</td>\n",
       "      <td>38.799624</td>\n",
       "      <td>...</td>\n",
       "      <td>0</td>\n",
       "      <td>0</td>\n",
       "      <td>0</td>\n",
       "      <td>0</td>\n",
       "      <td>0</td>\n",
       "      <td>0</td>\n",
       "      <td>0</td>\n",
       "      <td>0</td>\n",
       "      <td>0</td>\n",
       "      <td>0</td>\n",
       "    </tr>\n",
       "    <tr>\n",
       "      <th>3</th>\n",
       "      <td>96</td>\n",
       "      <td>65.0</td>\n",
       "      <td>This spent 20 months in 30% new French oak, an...</td>\n",
       "      <td>US</td>\n",
       "      <td>Oregon</td>\n",
       "      <td>Willamette Valley</td>\n",
       "      <td>Pinot Noir</td>\n",
       "      <td>Ponzi</td>\n",
       "      <td>Reserve</td>\n",
       "      <td>45.411007</td>\n",
       "      <td>...</td>\n",
       "      <td>0</td>\n",
       "      <td>0</td>\n",
       "      <td>0</td>\n",
       "      <td>0</td>\n",
       "      <td>0</td>\n",
       "      <td>0</td>\n",
       "      <td>0</td>\n",
       "      <td>0</td>\n",
       "      <td>0</td>\n",
       "      <td>0</td>\n",
       "    </tr>\n",
       "    <tr>\n",
       "      <th>4</th>\n",
       "      <td>95</td>\n",
       "      <td>66.0</td>\n",
       "      <td>This is the top wine from La Bégude, named aft...</td>\n",
       "      <td>France</td>\n",
       "      <td>Provence</td>\n",
       "      <td>Bandol</td>\n",
       "      <td>Provence red blend</td>\n",
       "      <td>Domaine de la Bégude</td>\n",
       "      <td>La Brûlade</td>\n",
       "      <td>43.135772</td>\n",
       "      <td>...</td>\n",
       "      <td>0</td>\n",
       "      <td>0</td>\n",
       "      <td>0</td>\n",
       "      <td>0</td>\n",
       "      <td>0</td>\n",
       "      <td>0</td>\n",
       "      <td>0</td>\n",
       "      <td>0</td>\n",
       "      <td>0</td>\n",
       "      <td>0</td>\n",
       "    </tr>\n",
       "  </tbody>\n",
       "</table>\n",
       "<p>5 rows × 105 columns</p>\n",
       "</div>"
      ],
      "text/plain": [
       "   points  price                                        description country  \\\n",
       "0      96  235.0  This tremendous 100% varietal wine hails from ...      US   \n",
       "1      96  110.0  Ripe aromas of fig, blackberry and cassis are ...   Spain   \n",
       "2      96   90.0  Mac Watson honors the memory of a wine once ma...      US   \n",
       "3      96   65.0  This spent 20 months in 30% new French oak, an...      US   \n",
       "4      95   66.0  This is the top wine from La Bégude, named aft...  France   \n",
       "\n",
       "         province           region_1             variety  \\\n",
       "0      California        Napa Valley  Cabernet Sauvignon   \n",
       "1  Northern Spain               Toro       Tinta de Toro   \n",
       "2      California     Knights Valley     Sauvignon Blanc   \n",
       "3          Oregon  Willamette Valley          Pinot Noir   \n",
       "4        Provence             Bandol  Provence red blend   \n",
       "\n",
       "                    winery                           designation   latitude  \\\n",
       "0                    Heitz                     Martha's Vineyard  38.297137   \n",
       "1  Bodega Carmen Rodríguez  Carodorum Selección Especial Reserva  41.521696   \n",
       "2                 Macauley         Special Selected Late Harvest  38.799624   \n",
       "3                    Ponzi                               Reserve  45.411007   \n",
       "4     Domaine de la Bégude                            La Brûlade  43.135772   \n",
       "\n",
       "          ...          Dummy_Burgundy  Dummy_Veneto  Dummy_South Australia  \\\n",
       "0         ...                       0             0                      0   \n",
       "1         ...                       0             0                      0   \n",
       "2         ...                       0             0                      0   \n",
       "3         ...                       0             0                      0   \n",
       "4         ...                       0             0                      0   \n",
       "\n",
       "   Dummy_Piedmont  Dummy_Bordeaux  Dummy_New York  Dummy_Sicily & Sardinia  \\\n",
       "0               0               0               0                        0   \n",
       "1               0               0               0                        0   \n",
       "2               0               0               0                        0   \n",
       "3               0               0               0                        0   \n",
       "4               0               0               0                        0   \n",
       "\n",
       "   Dummy_Northeastern Italy  Dummy_Marlborough  Dummy_Loire Valley  \n",
       "0                         0                  0                   0  \n",
       "1                         0                  0                   0  \n",
       "2                         0                  0                   0  \n",
       "3                         0                  0                   0  \n",
       "4                         0                  0                   0  \n",
       "\n",
       "[5 rows x 105 columns]"
      ]
     },
     "execution_count": 12,
     "metadata": {},
     "output_type": "execute_result"
    }
   ],
   "source": [
    "data_new.head()"
   ]
  },
  {
   "cell_type": "code",
   "execution_count": 13,
   "metadata": {
    "collapsed": true
   },
   "outputs": [],
   "source": [
    "data=data_new"
   ]
  },
  {
   "cell_type": "code",
   "execution_count": 14,
   "metadata": {
    "collapsed": true
   },
   "outputs": [],
   "source": [
    "# Видалили стовпці з категоріальними даними\n",
    "X=data.drop([\"country\",\"province\",\"region_1\",\"variety\",\"winery\",\"designation\", \"price\",\"description\"], axis=1)\n",
    "X=np.array(X)"
   ]
  },
  {
   "cell_type": "code",
   "execution_count": 15,
   "metadata": {
    "collapsed": true
   },
   "outputs": [],
   "source": [
    "from sklearn.model_selection import train_test_split\n",
    "\n",
    "from sklearn.metrics import  mean_squared_error, r2_score\n",
    "from sklearn.model_selection import cross_val_score\n",
    "\n",
    "from sklearn.feature_extraction.text import TfidfVectorizer\n",
    "\n"
   ]
  },
  {
   "cell_type": "markdown",
   "metadata": {},
   "source": [
    "### Моделювання \n",
    "#### price= points+latitude+longitude+dammy(country+country*points+variety+variety*points+province)"
   ]
  },
  {
   "cell_type": "code",
   "execution_count": 16,
   "metadata": {
    "collapsed": true
   },
   "outputs": [],
   "source": [
    "y=data[\"price\"]\n",
    "X_train, X_test, y_train, y_test = train_test_split(X, y, test_size=0.3,random_state=0)"
   ]
  },
  {
   "cell_type": "markdown",
   "metadata": {},
   "source": [
    "#### LinearRegression"
   ]
  },
  {
   "cell_type": "code",
   "execution_count": 17,
   "metadata": {},
   "outputs": [
    {
     "name": "stdout",
     "output_type": "stream",
     "text": [
      "lr.score_train: 0.325\n",
      "lr.score_test: 0.359\n"
     ]
    }
   ],
   "source": [
    "from sklearn.linear_model import LinearRegression\n",
    "\n",
    "lr=LinearRegression().fit(X_train, y_train)\n",
    "print(\"lr.score_train: {:.3f}\".format(lr.score(X_train,y_train)))\n",
    "print(\"lr.score_test: {:.3f}\".format(lr.score(X_test,y_test)))\n",
    "#print(\"lr.score: {:.3f}\".format(lr.score(X,y)))"
   ]
  },
  {
   "cell_type": "code",
   "execution_count": 18,
   "metadata": {},
   "outputs": [
    {
     "data": {
      "text/html": [
       "<div>\n",
       "<style scoped>\n",
       "    .dataframe tbody tr th:only-of-type {\n",
       "        vertical-align: middle;\n",
       "    }\n",
       "\n",
       "    .dataframe tbody tr th {\n",
       "        vertical-align: top;\n",
       "    }\n",
       "\n",
       "    .dataframe thead th {\n",
       "        text-align: right;\n",
       "    }\n",
       "</style>\n",
       "<table border=\"1\" class=\"dataframe\">\n",
       "  <thead>\n",
       "    <tr style=\"text-align: right;\">\n",
       "      <th></th>\n",
       "      <th>price</th>\n",
       "      <th>prediction_lr</th>\n",
       "    </tr>\n",
       "  </thead>\n",
       "  <tbody>\n",
       "    <tr>\n",
       "      <th>price</th>\n",
       "      <td>1.000000</td>\n",
       "      <td>0.599832</td>\n",
       "    </tr>\n",
       "    <tr>\n",
       "      <th>prediction_lr</th>\n",
       "      <td>0.599832</td>\n",
       "      <td>1.000000</td>\n",
       "    </tr>\n",
       "  </tbody>\n",
       "</table>\n",
       "</div>"
      ],
      "text/plain": [
       "                  price  prediction_lr\n",
       "price          1.000000       0.599832\n",
       "prediction_lr  0.599832       1.000000"
      ]
     },
     "execution_count": 18,
     "metadata": {},
     "output_type": "execute_result"
    }
   ],
   "source": [
    "y_pred_lr=lr.predict(X_test)\n",
    "df_lr=pd.DataFrame(np.array([y_test,y_pred_lr]).transpose(),columns=[\"price\",\"prediction_lr\"])\n",
    "df_lr.corr()"
   ]
  },
  {
   "cell_type": "code",
   "execution_count": 19,
   "metadata": {},
   "outputs": [
    {
     "data": {
      "text/html": [
       "<div>\n",
       "<style scoped>\n",
       "    .dataframe tbody tr th:only-of-type {\n",
       "        vertical-align: middle;\n",
       "    }\n",
       "\n",
       "    .dataframe tbody tr th {\n",
       "        vertical-align: top;\n",
       "    }\n",
       "\n",
       "    .dataframe thead th {\n",
       "        text-align: right;\n",
       "    }\n",
       "</style>\n",
       "<table border=\"1\" class=\"dataframe\">\n",
       "  <thead>\n",
       "    <tr style=\"text-align: right;\">\n",
       "      <th></th>\n",
       "      <th>price</th>\n",
       "      <th>prediction_lr</th>\n",
       "    </tr>\n",
       "  </thead>\n",
       "  <tbody>\n",
       "    <tr>\n",
       "      <th>price</th>\n",
       "      <td>1.000000</td>\n",
       "      <td>0.679917</td>\n",
       "    </tr>\n",
       "    <tr>\n",
       "      <th>prediction_lr</th>\n",
       "      <td>0.679917</td>\n",
       "      <td>1.000000</td>\n",
       "    </tr>\n",
       "  </tbody>\n",
       "</table>\n",
       "</div>"
      ],
      "text/plain": [
       "                  price  prediction_lr\n",
       "price          1.000000       0.679917\n",
       "prediction_lr  0.679917       1.000000"
      ]
     },
     "execution_count": 19,
     "metadata": {},
     "output_type": "execute_result"
    }
   ],
   "source": [
    "df_lr.corr(method='spearman')"
   ]
  },
  {
   "cell_type": "markdown",
   "metadata": {},
   "source": [
    "#### *Decision Tree*"
   ]
  },
  {
   "cell_type": "code",
   "execution_count": 20,
   "metadata": {},
   "outputs": [
    {
     "name": "stdout",
     "output_type": "stream",
     "text": [
      "tree.score_train: 0.674\n",
      "tree.score_test: 0.523\n"
     ]
    }
   ],
   "source": [
    "from sklearn.tree import DecisionTreeRegressor\n",
    "\n",
    "tree = DecisionTreeRegressor(max_depth=50, random_state=0)\n",
    "tree=tree.fit(X_train, y_train)\n",
    "print(\"tree.score_train: {:.3f}\".format(tree.score(X_train,y_train)))\n",
    "print(\"tree.score_test: {:.3f}\".format(tree.score(X_test,y_test)))\n",
    "#print(\"tree.score_X: {:.3f}\".format(tree.score(X,y)))"
   ]
  },
  {
   "cell_type": "code",
   "execution_count": 21,
   "metadata": {},
   "outputs": [
    {
     "data": {
      "text/html": [
       "<div>\n",
       "<style scoped>\n",
       "    .dataframe tbody tr th:only-of-type {\n",
       "        vertical-align: middle;\n",
       "    }\n",
       "\n",
       "    .dataframe tbody tr th {\n",
       "        vertical-align: top;\n",
       "    }\n",
       "\n",
       "    .dataframe thead th {\n",
       "        text-align: right;\n",
       "    }\n",
       "</style>\n",
       "<table border=\"1\" class=\"dataframe\">\n",
       "  <thead>\n",
       "    <tr style=\"text-align: right;\">\n",
       "      <th></th>\n",
       "      <th>price</th>\n",
       "      <th>prediction_tree</th>\n",
       "    </tr>\n",
       "  </thead>\n",
       "  <tbody>\n",
       "    <tr>\n",
       "      <th>price</th>\n",
       "      <td>1.00000</td>\n",
       "      <td>0.73381</td>\n",
       "    </tr>\n",
       "    <tr>\n",
       "      <th>prediction_tree</th>\n",
       "      <td>0.73381</td>\n",
       "      <td>1.00000</td>\n",
       "    </tr>\n",
       "  </tbody>\n",
       "</table>\n",
       "</div>"
      ],
      "text/plain": [
       "                   price  prediction_tree\n",
       "price            1.00000          0.73381\n",
       "prediction_tree  0.73381          1.00000"
      ]
     },
     "execution_count": 21,
     "metadata": {},
     "output_type": "execute_result"
    }
   ],
   "source": [
    "y_pred_tree=tree.predict(X_test)\n",
    "df_tree=pd.DataFrame(np.array([y_test,y_pred_tree]).transpose(),columns=[\"price\",\"prediction_tree\"])\n",
    "df_tree.corr()"
   ]
  },
  {
   "cell_type": "code",
   "execution_count": 22,
   "metadata": {},
   "outputs": [
    {
     "data": {
      "text/html": [
       "<div>\n",
       "<style scoped>\n",
       "    .dataframe tbody tr th:only-of-type {\n",
       "        vertical-align: middle;\n",
       "    }\n",
       "\n",
       "    .dataframe tbody tr th {\n",
       "        vertical-align: top;\n",
       "    }\n",
       "\n",
       "    .dataframe thead th {\n",
       "        text-align: right;\n",
       "    }\n",
       "</style>\n",
       "<table border=\"1\" class=\"dataframe\">\n",
       "  <thead>\n",
       "    <tr style=\"text-align: right;\">\n",
       "      <th></th>\n",
       "      <th>price</th>\n",
       "      <th>prediction_tree</th>\n",
       "    </tr>\n",
       "  </thead>\n",
       "  <tbody>\n",
       "    <tr>\n",
       "      <th>price</th>\n",
       "      <td>1.000000</td>\n",
       "      <td>0.800245</td>\n",
       "    </tr>\n",
       "    <tr>\n",
       "      <th>prediction_tree</th>\n",
       "      <td>0.800245</td>\n",
       "      <td>1.000000</td>\n",
       "    </tr>\n",
       "  </tbody>\n",
       "</table>\n",
       "</div>"
      ],
      "text/plain": [
       "                    price  prediction_tree\n",
       "price            1.000000         0.800245\n",
       "prediction_tree  0.800245         1.000000"
      ]
     },
     "execution_count": 22,
     "metadata": {},
     "output_type": "execute_result"
    }
   ],
   "source": [
    "df_tree.corr(method='spearman')"
   ]
  },
  {
   "cell_type": "markdown",
   "metadata": {},
   "source": [
    "#### *KNeighbors*"
   ]
  },
  {
   "cell_type": "code",
   "execution_count": 23,
   "metadata": {},
   "outputs": [
    {
     "name": "stdout",
     "output_type": "stream",
     "text": [
      "knn.score_train: 0.526\n",
      "knn.score_test: 0.515\n"
     ]
    }
   ],
   "source": [
    "from sklearn.neighbors import KNeighborsRegressor\n",
    "\n",
    "#cross_val_score(knn, X, y, cv=5)\n",
    "knn =KNeighborsRegressor(n_neighbors=15)\n",
    "knn=knn.fit(X_train, y_train)\n",
    "print(\"knn.score_train: {:.3f}\".format(knn.score(X_train,y_train)))\n",
    "print(\"knn.score_test: {:.3f}\".format(knn.score(X_test,y_test)))\n",
    "#print(\"knn.score: {:.3f}\".format(knn.score(X,y)))"
   ]
  },
  {
   "cell_type": "code",
   "execution_count": 24,
   "metadata": {},
   "outputs": [
    {
     "data": {
      "text/html": [
       "<div>\n",
       "<style scoped>\n",
       "    .dataframe tbody tr th:only-of-type {\n",
       "        vertical-align: middle;\n",
       "    }\n",
       "\n",
       "    .dataframe tbody tr th {\n",
       "        vertical-align: top;\n",
       "    }\n",
       "\n",
       "    .dataframe thead th {\n",
       "        text-align: right;\n",
       "    }\n",
       "</style>\n",
       "<table border=\"1\" class=\"dataframe\">\n",
       "  <thead>\n",
       "    <tr style=\"text-align: right;\">\n",
       "      <th></th>\n",
       "      <th>price</th>\n",
       "      <th>prediction_knn</th>\n",
       "    </tr>\n",
       "  </thead>\n",
       "  <tbody>\n",
       "    <tr>\n",
       "      <th>price</th>\n",
       "      <td>1.000000</td>\n",
       "      <td>0.717901</td>\n",
       "    </tr>\n",
       "    <tr>\n",
       "      <th>prediction_knn</th>\n",
       "      <td>0.717901</td>\n",
       "      <td>1.000000</td>\n",
       "    </tr>\n",
       "  </tbody>\n",
       "</table>\n",
       "</div>"
      ],
      "text/plain": [
       "                   price  prediction_knn\n",
       "price           1.000000        0.717901\n",
       "prediction_knn  0.717901        1.000000"
      ]
     },
     "execution_count": 24,
     "metadata": {},
     "output_type": "execute_result"
    }
   ],
   "source": [
    "y_pred_knn=knn.predict(X_test)\n",
    "df_knn=pd.DataFrame(np.array([y_test,y_pred_knn]).transpose(),columns=[\"price\",\"prediction_knn\"])\n",
    "df_knn.corr()"
   ]
  },
  {
   "cell_type": "code",
   "execution_count": 25,
   "metadata": {},
   "outputs": [
    {
     "data": {
      "text/html": [
       "<div>\n",
       "<style scoped>\n",
       "    .dataframe tbody tr th:only-of-type {\n",
       "        vertical-align: middle;\n",
       "    }\n",
       "\n",
       "    .dataframe tbody tr th {\n",
       "        vertical-align: top;\n",
       "    }\n",
       "\n",
       "    .dataframe thead th {\n",
       "        text-align: right;\n",
       "    }\n",
       "</style>\n",
       "<table border=\"1\" class=\"dataframe\">\n",
       "  <thead>\n",
       "    <tr style=\"text-align: right;\">\n",
       "      <th></th>\n",
       "      <th>price</th>\n",
       "      <th>prediction_knn</th>\n",
       "    </tr>\n",
       "  </thead>\n",
       "  <tbody>\n",
       "    <tr>\n",
       "      <th>price</th>\n",
       "      <td>1.00000</td>\n",
       "      <td>0.77438</td>\n",
       "    </tr>\n",
       "    <tr>\n",
       "      <th>prediction_knn</th>\n",
       "      <td>0.77438</td>\n",
       "      <td>1.00000</td>\n",
       "    </tr>\n",
       "  </tbody>\n",
       "</table>\n",
       "</div>"
      ],
      "text/plain": [
       "                  price  prediction_knn\n",
       "price           1.00000         0.77438\n",
       "prediction_knn  0.77438         1.00000"
      ]
     },
     "execution_count": 25,
     "metadata": {},
     "output_type": "execute_result"
    }
   ],
   "source": [
    "df_knn.corr(method='spearman')"
   ]
  },
  {
   "cell_type": "markdown",
   "metadata": {},
   "source": [
    "##### RandomForestRegressor"
   ]
  },
  {
   "cell_type": "code",
   "execution_count": 26,
   "metadata": {},
   "outputs": [
    {
     "name": "stdout",
     "output_type": "stream",
     "text": [
      "forest.score_train: 0.664\n",
      "forest.score_test: 0.543\n"
     ]
    }
   ],
   "source": [
    "from sklearn.ensemble import RandomForestRegressor\n",
    "\n",
    "forest = RandomForestRegressor(n_estimators=100, max_depth=50, random_state=0)\n",
    "forest=forest.fit(X_train, y_train)\n",
    "print(\"forest.score_train: {:.3f}\".format(forest.score(X_train,y_train)))\n",
    "print(\"forest.score_test: {:.3f}\".format(forest.score(X_test,y_test)))\n",
    "#print(\"forest.scoret: {:.3f}\".format(forest.score(X,y)))"
   ]
  },
  {
   "cell_type": "code",
   "execution_count": 27,
   "metadata": {},
   "outputs": [
    {
     "data": {
      "text/html": [
       "<div>\n",
       "<style scoped>\n",
       "    .dataframe tbody tr th:only-of-type {\n",
       "        vertical-align: middle;\n",
       "    }\n",
       "\n",
       "    .dataframe tbody tr th {\n",
       "        vertical-align: top;\n",
       "    }\n",
       "\n",
       "    .dataframe thead th {\n",
       "        text-align: right;\n",
       "    }\n",
       "</style>\n",
       "<table border=\"1\" class=\"dataframe\">\n",
       "  <thead>\n",
       "    <tr style=\"text-align: right;\">\n",
       "      <th></th>\n",
       "      <th>price</th>\n",
       "      <th>prediction_forest</th>\n",
       "    </tr>\n",
       "  </thead>\n",
       "  <tbody>\n",
       "    <tr>\n",
       "      <th>price</th>\n",
       "      <td>1.000000</td>\n",
       "      <td>0.742708</td>\n",
       "    </tr>\n",
       "    <tr>\n",
       "      <th>prediction_forest</th>\n",
       "      <td>0.742708</td>\n",
       "      <td>1.000000</td>\n",
       "    </tr>\n",
       "  </tbody>\n",
       "</table>\n",
       "</div>"
      ],
      "text/plain": [
       "                      price  prediction_forest\n",
       "price              1.000000           0.742708\n",
       "prediction_forest  0.742708           1.000000"
      ]
     },
     "execution_count": 27,
     "metadata": {},
     "output_type": "execute_result"
    }
   ],
   "source": [
    "y_pred_forest=forest.predict(X_test)\n",
    "df_forest=pd.DataFrame(np.array([y_test,y_pred_forest]).transpose(),columns=[\"price\",\"prediction_forest\"])\n",
    "df_forest.corr()"
   ]
  },
  {
   "cell_type": "code",
   "execution_count": 28,
   "metadata": {},
   "outputs": [
    {
     "data": {
      "text/html": [
       "<div>\n",
       "<style scoped>\n",
       "    .dataframe tbody tr th:only-of-type {\n",
       "        vertical-align: middle;\n",
       "    }\n",
       "\n",
       "    .dataframe tbody tr th {\n",
       "        vertical-align: top;\n",
       "    }\n",
       "\n",
       "    .dataframe thead th {\n",
       "        text-align: right;\n",
       "    }\n",
       "</style>\n",
       "<table border=\"1\" class=\"dataframe\">\n",
       "  <thead>\n",
       "    <tr style=\"text-align: right;\">\n",
       "      <th></th>\n",
       "      <th>price</th>\n",
       "      <th>prediction_forest</th>\n",
       "    </tr>\n",
       "  </thead>\n",
       "  <tbody>\n",
       "    <tr>\n",
       "      <th>price</th>\n",
       "      <td>1.000000</td>\n",
       "      <td>0.806743</td>\n",
       "    </tr>\n",
       "    <tr>\n",
       "      <th>prediction_forest</th>\n",
       "      <td>0.806743</td>\n",
       "      <td>1.000000</td>\n",
       "    </tr>\n",
       "  </tbody>\n",
       "</table>\n",
       "</div>"
      ],
      "text/plain": [
       "                      price  prediction_forest\n",
       "price              1.000000           0.806743\n",
       "prediction_forest  0.806743           1.000000"
      ]
     },
     "execution_count": 28,
     "metadata": {},
     "output_type": "execute_result"
    }
   ],
   "source": [
    "df_forest.corr(method='spearman')"
   ]
  },
  {
   "cell_type": "markdown",
   "metadata": {},
   "source": [
    "##### GradientBoostingRegressor"
   ]
  },
  {
   "cell_type": "code",
   "execution_count": 29,
   "metadata": {},
   "outputs": [
    {
     "name": "stdout",
     "output_type": "stream",
     "text": [
      "gbr.score_train: 0.672\n",
      "gbr.score_test: 0.542\n"
     ]
    }
   ],
   "source": [
    "from sklearn.ensemble import GradientBoostingRegressor\n",
    "from sklearn.linear_model import SGDRegressor\n",
    "\n",
    "gbr =GradientBoostingRegressor(n_estimators=200, learning_rate=0.1, max_depth=15, random_state=0, loss='ls')\n",
    "gbr=gbr.fit(X_train, y_train)\n",
    "print(\"gbr.score_train: {:.3f}\".format(gbr.score(X_train,y_train)))\n",
    "print(\"gbr.score_test: {:.3f}\".format(gbr.score(X_test,y_test)))\n",
    "#print(\"gbr.scoret: {:.3f}\".format(gbr.score(X,y)))"
   ]
  },
  {
   "cell_type": "code",
   "execution_count": 30,
   "metadata": {},
   "outputs": [
    {
     "data": {
      "text/html": [
       "<div>\n",
       "<style scoped>\n",
       "    .dataframe tbody tr th:only-of-type {\n",
       "        vertical-align: middle;\n",
       "    }\n",
       "\n",
       "    .dataframe tbody tr th {\n",
       "        vertical-align: top;\n",
       "    }\n",
       "\n",
       "    .dataframe thead th {\n",
       "        text-align: right;\n",
       "    }\n",
       "</style>\n",
       "<table border=\"1\" class=\"dataframe\">\n",
       "  <thead>\n",
       "    <tr style=\"text-align: right;\">\n",
       "      <th></th>\n",
       "      <th>price</th>\n",
       "      <th>prediction_gbr</th>\n",
       "    </tr>\n",
       "  </thead>\n",
       "  <tbody>\n",
       "    <tr>\n",
       "      <th>price</th>\n",
       "      <td>1.000000</td>\n",
       "      <td>0.743382</td>\n",
       "    </tr>\n",
       "    <tr>\n",
       "      <th>prediction_gbr</th>\n",
       "      <td>0.743382</td>\n",
       "      <td>1.000000</td>\n",
       "    </tr>\n",
       "  </tbody>\n",
       "</table>\n",
       "</div>"
      ],
      "text/plain": [
       "                   price  prediction_gbr\n",
       "price           1.000000        0.743382\n",
       "prediction_gbr  0.743382        1.000000"
      ]
     },
     "execution_count": 30,
     "metadata": {},
     "output_type": "execute_result"
    }
   ],
   "source": [
    "y_pred_gbr=gbr.predict(X_test)\n",
    "df_gbr=pd.DataFrame(np.array([y_test,y_pred_gbr]).transpose(),columns=[\"price\",\"prediction_gbr\"])\n",
    "df_gbr.corr()"
   ]
  },
  {
   "cell_type": "code",
   "execution_count": 31,
   "metadata": {},
   "outputs": [
    {
     "data": {
      "text/html": [
       "<div>\n",
       "<style scoped>\n",
       "    .dataframe tbody tr th:only-of-type {\n",
       "        vertical-align: middle;\n",
       "    }\n",
       "\n",
       "    .dataframe tbody tr th {\n",
       "        vertical-align: top;\n",
       "    }\n",
       "\n",
       "    .dataframe thead th {\n",
       "        text-align: right;\n",
       "    }\n",
       "</style>\n",
       "<table border=\"1\" class=\"dataframe\">\n",
       "  <thead>\n",
       "    <tr style=\"text-align: right;\">\n",
       "      <th></th>\n",
       "      <th>price</th>\n",
       "      <th>prediction_gbr</th>\n",
       "    </tr>\n",
       "  </thead>\n",
       "  <tbody>\n",
       "    <tr>\n",
       "      <th>price</th>\n",
       "      <td>1.000000</td>\n",
       "      <td>0.810136</td>\n",
       "    </tr>\n",
       "    <tr>\n",
       "      <th>prediction_gbr</th>\n",
       "      <td>0.810136</td>\n",
       "      <td>1.000000</td>\n",
       "    </tr>\n",
       "  </tbody>\n",
       "</table>\n",
       "</div>"
      ],
      "text/plain": [
       "                   price  prediction_gbr\n",
       "price           1.000000        0.810136\n",
       "prediction_gbr  0.810136        1.000000"
      ]
     },
     "execution_count": 31,
     "metadata": {},
     "output_type": "execute_result"
    }
   ],
   "source": [
    "df_gbr.corr(method='spearman')"
   ]
  },
  {
   "cell_type": "markdown",
   "metadata": {
    "collapsed": true
   },
   "source": [
    "### \"Мішок слів\""
   ]
  },
  {
   "cell_type": "markdown",
   "metadata": {},
   "source": [
    "#### SGDRegressor"
   ]
  },
  {
   "cell_type": "code",
   "execution_count": 32,
   "metadata": {
    "collapsed": true
   },
   "outputs": [],
   "source": [
    "from sklearn.feature_extraction.text import TfidfVectorizer\n",
    "from sklearn.linear_model import SGDRegressor\n",
    "\n",
    "\n",
    "vectorizer = TfidfVectorizer(stop_words='english', norm = None)\n",
    "\n",
    "X_desc = vectorizer.fit_transform(data[\"description\"])"
   ]
  },
  {
   "cell_type": "code",
   "execution_count": 33,
   "metadata": {
    "collapsed": true
   },
   "outputs": [],
   "source": [
    "X_train, X_test, y_train, y_test = train_test_split(X_desc, y, test_size=0.3,random_state=0)"
   ]
  },
  {
   "cell_type": "code",
   "execution_count": 34,
   "metadata": {},
   "outputs": [
    {
     "name": "stderr",
     "output_type": "stream",
     "text": [
      "C:\\Users\\Anatoliy\\python_2.7\\lib\\site-packages\\sklearn\\linear_model\\stochastic_gradient.py:128: FutureWarning: max_iter and tol parameters have been added in <class 'sklearn.linear_model.stochastic_gradient.SGDRegressor'> in 0.19. If both are left unset, they default to max_iter=5 and tol=None. If tol is not None, max_iter defaults to max_iter=1000. From 0.21, default max_iter will be 1000, and default tol will be 1e-3.\n",
      "  \"and default tol will be 1e-3.\" % type(self), FutureWarning)\n"
     ]
    },
    {
     "name": "stdout",
     "output_type": "stream",
     "text": [
      "regr.score_train: 0.522\n",
      "regr.score_test: 0.362\n",
      "regr.scoret: 0.479\n"
     ]
    }
   ],
   "source": [
    "regr = SGDRegressor(average=True, warm_start=True, penalty='elasticnet')\n",
    "regr.fit(X_train, y_train) \n",
    "\n",
    "y_pred_sgd=regr.predict(X_test)\n",
    "print(\"regr.score_train: {:.3f}\".format(regr.score(X_train,y_train)))\n",
    "print(\"regr.score_test: {:.3f}\".format(regr.score(X_test,y_test)))\n",
    "\n",
    "print(\"regr.scoret: {:.3f}\".format(regr.score(X_desc,y)))"
   ]
  },
  {
   "cell_type": "code",
   "execution_count": 35,
   "metadata": {},
   "outputs": [
    {
     "data": {
      "text/html": [
       "<div>\n",
       "<style scoped>\n",
       "    .dataframe tbody tr th:only-of-type {\n",
       "        vertical-align: middle;\n",
       "    }\n",
       "\n",
       "    .dataframe tbody tr th {\n",
       "        vertical-align: top;\n",
       "    }\n",
       "\n",
       "    .dataframe thead th {\n",
       "        text-align: right;\n",
       "    }\n",
       "</style>\n",
       "<table border=\"1\" class=\"dataframe\">\n",
       "  <thead>\n",
       "    <tr style=\"text-align: right;\">\n",
       "      <th></th>\n",
       "      <th>price</th>\n",
       "      <th>prediction_SGD</th>\n",
       "    </tr>\n",
       "  </thead>\n",
       "  <tbody>\n",
       "    <tr>\n",
       "      <th>price</th>\n",
       "      <td>1.000000</td>\n",
       "      <td>0.609683</td>\n",
       "    </tr>\n",
       "    <tr>\n",
       "      <th>prediction_SGD</th>\n",
       "      <td>0.609683</td>\n",
       "      <td>1.000000</td>\n",
       "    </tr>\n",
       "  </tbody>\n",
       "</table>\n",
       "</div>"
      ],
      "text/plain": [
       "                   price  prediction_SGD\n",
       "price           1.000000        0.609683\n",
       "prediction_SGD  0.609683        1.000000"
      ]
     },
     "execution_count": 35,
     "metadata": {},
     "output_type": "execute_result"
    }
   ],
   "source": [
    "df_text=pd.DataFrame(np.array([y_test,y_pred_sgd]).transpose(),columns=[\"price\",\"prediction_SGD\"])\n",
    "df_text.corr()"
   ]
  },
  {
   "cell_type": "code",
   "execution_count": 36,
   "metadata": {},
   "outputs": [
    {
     "data": {
      "text/html": [
       "<div>\n",
       "<style scoped>\n",
       "    .dataframe tbody tr th:only-of-type {\n",
       "        vertical-align: middle;\n",
       "    }\n",
       "\n",
       "    .dataframe tbody tr th {\n",
       "        vertical-align: top;\n",
       "    }\n",
       "\n",
       "    .dataframe thead th {\n",
       "        text-align: right;\n",
       "    }\n",
       "</style>\n",
       "<table border=\"1\" class=\"dataframe\">\n",
       "  <thead>\n",
       "    <tr style=\"text-align: right;\">\n",
       "      <th></th>\n",
       "      <th>price</th>\n",
       "      <th>prediction_SGD</th>\n",
       "    </tr>\n",
       "  </thead>\n",
       "  <tbody>\n",
       "    <tr>\n",
       "      <th>price</th>\n",
       "      <td>1.000000</td>\n",
       "      <td>0.617751</td>\n",
       "    </tr>\n",
       "    <tr>\n",
       "      <th>prediction_SGD</th>\n",
       "      <td>0.617751</td>\n",
       "      <td>1.000000</td>\n",
       "    </tr>\n",
       "  </tbody>\n",
       "</table>\n",
       "</div>"
      ],
      "text/plain": [
       "                   price  prediction_SGD\n",
       "price           1.000000        0.617751\n",
       "prediction_SGD  0.617751        1.000000"
      ]
     },
     "execution_count": 36,
     "metadata": {},
     "output_type": "execute_result"
    }
   ],
   "source": [
    "df_text.corr(method='spearman')"
   ]
  },
  {
   "cell_type": "code",
   "execution_count": null,
   "metadata": {
    "collapsed": true
   },
   "outputs": [],
   "source": []
  },
  {
   "cell_type": "markdown",
   "metadata": {},
   "source": [
    "Подивимось на кореляції з цільовою змінною."
   ]
  },
  {
   "cell_type": "code",
   "execution_count": 37,
   "metadata": {},
   "outputs": [
    {
     "name": "stdout",
     "output_type": "stream",
     "text": [
      "Linear  0.5998316925357516\n",
      "RandomForest  0.7427084312066388\n",
      "GradientBoosting  0.7433821437782943\n",
      "DecisionTree  0.733810339479842\n",
      "SGD  0.6096834728169552\n",
      "KNeighbors  0.7179010466686633\n"
     ]
    }
   ],
   "source": [
    "predictions = {\"Linear\": y_pred_lr, \"DecisionTree\": y_pred_tree, \"KNeighbors\": y_pred_knn, \n",
    "               \"RandomForest\": y_pred_forest, \"GradientBoosting\": y_pred_gbr, \"SGD\": y_pred_sgd}\n",
    "for key, value in predictions.items():\n",
    "    print(key+\"  \"+str(np.corrcoef(value, y_test)[0,1]))"
   ]
  },
  {
   "cell_type": "markdown",
   "metadata": {},
   "source": [
    "Кореляції прогнозів між собою:"
   ]
  },
  {
   "cell_type": "code",
   "execution_count": 38,
   "metadata": {},
   "outputs": [
    {
     "name": "stdout",
     "output_type": "stream",
     "text": [
      "Linear and RandomForest   0.7365114516858906\n",
      "Linear and GradientBoosting   0.7245960428347611\n",
      "Linear and DecisionTree   0.7137277904458653\n",
      "Linear and SGD   0.5968833422214711\n",
      "Linear and KNeighbors   0.7995881297606974\n",
      "RandomForest and Linear   0.7365114516858906\n",
      "RandomForest and GradientBoosting   0.9777327952160823\n",
      "RandomForest and DecisionTree   0.9744583459452697\n",
      "RandomForest and SGD   0.6021418818338814\n",
      "RandomForest and KNeighbors   0.9141751130486278\n",
      "GradientBoosting and Linear   0.7245960428347611\n",
      "GradientBoosting and RandomForest   0.9777327952160823\n",
      "GradientBoosting and DecisionTree   0.9903931097194797\n",
      "GradientBoosting and SGD   0.6032174740095346\n",
      "GradientBoosting and KNeighbors   0.8961793940594225\n",
      "DecisionTree and Linear   0.7137277904458653\n",
      "DecisionTree and RandomForest   0.9744583459452698\n",
      "DecisionTree and GradientBoosting   0.9903931097194796\n",
      "DecisionTree and SGD   0.594669571245082\n",
      "DecisionTree and KNeighbors   0.8845412908503484\n",
      "SGD and Linear   0.5968833422214711\n",
      "SGD and RandomForest   0.6021418818338813\n",
      "SGD and GradientBoosting   0.6032174740095346\n",
      "SGD and DecisionTree   0.594669571245082\n",
      "SGD and KNeighbors   0.6122074197048333\n",
      "KNeighbors and Linear   0.7995881297606974\n",
      "KNeighbors and RandomForest   0.9141751130486279\n",
      "KNeighbors and GradientBoosting   0.8961793940594225\n",
      "KNeighbors and DecisionTree   0.8845412908503483\n",
      "KNeighbors and SGD   0.6122074197048333\n"
     ]
    }
   ],
   "source": [
    "for key1, value1 in predictions.items():\n",
    "    for key2, value2 in predictions.items():\n",
    "        if key1!=key2:\n",
    "            print(key1 +\" and \" + key2 + \"   \" +str(np.corrcoef(value1, value2)[0,1]))"
   ]
  },
  {
   "cell_type": "markdown",
   "metadata": {},
   "source": [
    "Кореляції з \"мішком слів\"."
   ]
  },
  {
   "cell_type": "code",
   "execution_count": 39,
   "metadata": {},
   "outputs": [
    {
     "name": "stdout",
     "output_type": "stream",
     "text": [
      "RandomForest  0.6021418818338814\n",
      "DecisionTree  0.594669571245082\n",
      "Linear  0.5968833422214711\n",
      "KNeighbors  0.6122074197048333\n",
      "GradientBoosting  0.6032174740095346\n"
     ]
    }
   ],
   "source": [
    "predictions = {\"Linear\": y_pred_lr, \"DecisionTree\": y_pred_tree, \"KNeighbors\": y_pred_knn, \n",
    "               \"RandomForest\": y_pred_forest, \"GradientBoosting\": y_pred_gbr}\n",
    "for key, value in predictions.items():\n",
    "    print(key+\"  \"+str(np.corrcoef(value, y_pred_sgd)[0,1]))"
   ]
  },
  {
   "cell_type": "markdown",
   "metadata": {
    "collapsed": true
   },
   "source": [
    " Подивимось на ансамбль розглянутих вище методів"
   ]
  },
  {
   "cell_type": "code",
   "execution_count": 46,
   "metadata": {
    "collapsed": true
   },
   "outputs": [],
   "source": [
    "a_sgd=0.3\n",
    "a_forest=0.15\n",
    "a_knn=0.15\n",
    "a_lr=0.0\n",
    "a_tree=0.1\n",
    "a_gbr=0.3\n"
   ]
  },
  {
   "cell_type": "code",
   "execution_count": 47,
   "metadata": {},
   "outputs": [
    {
     "name": "stdout",
     "output_type": "stream",
     "text": [
      "r2: 0.59608\n"
     ]
    }
   ],
   "source": [
    "y_pred_sum=a_sgd*y_pred_sgd+a_forest*y_pred_forest+a_knn*y_pred_knn+a_lr*y_pred_lr+a_tree*y_pred_tree+a_gbr*y_pred_gbr\n",
    "#r2_score(y_test,y_pred_sum)\n",
    "print(\"r2: {:.5f}\".format(r2_score(y_test,y_pred_sum)))"
   ]
  },
  {
   "cell_type": "code",
   "execution_count": 48,
   "metadata": {},
   "outputs": [
    {
     "data": {
      "text/html": [
       "<div>\n",
       "<style scoped>\n",
       "    .dataframe tbody tr th:only-of-type {\n",
       "        vertical-align: middle;\n",
       "    }\n",
       "\n",
       "    .dataframe tbody tr th {\n",
       "        vertical-align: top;\n",
       "    }\n",
       "\n",
       "    .dataframe thead th {\n",
       "        text-align: right;\n",
       "    }\n",
       "</style>\n",
       "<table border=\"1\" class=\"dataframe\">\n",
       "  <thead>\n",
       "    <tr style=\"text-align: right;\">\n",
       "      <th></th>\n",
       "      <th>price</th>\n",
       "      <th>prediction_sum</th>\n",
       "    </tr>\n",
       "  </thead>\n",
       "  <tbody>\n",
       "    <tr>\n",
       "      <th>price</th>\n",
       "      <td>1.000000</td>\n",
       "      <td>0.774375</td>\n",
       "    </tr>\n",
       "    <tr>\n",
       "      <th>prediction_sum</th>\n",
       "      <td>0.774375</td>\n",
       "      <td>1.000000</td>\n",
       "    </tr>\n",
       "  </tbody>\n",
       "</table>\n",
       "</div>"
      ],
      "text/plain": [
       "                   price  prediction_sum\n",
       "price           1.000000        0.774375\n",
       "prediction_sum  0.774375        1.000000"
      ]
     },
     "execution_count": 48,
     "metadata": {},
     "output_type": "execute_result"
    }
   ],
   "source": [
    "df_sum=pd.DataFrame(np.array([y_test,y_pred_sum]).transpose(),columns=[\"price\",\"prediction_sum\"])\n",
    "df_sum.corr()"
   ]
  },
  {
   "cell_type": "code",
   "execution_count": 43,
   "metadata": {},
   "outputs": [
    {
     "data": {
      "text/html": [
       "<div>\n",
       "<style scoped>\n",
       "    .dataframe tbody tr th:only-of-type {\n",
       "        vertical-align: middle;\n",
       "    }\n",
       "\n",
       "    .dataframe tbody tr th {\n",
       "        vertical-align: top;\n",
       "    }\n",
       "\n",
       "    .dataframe thead th {\n",
       "        text-align: right;\n",
       "    }\n",
       "</style>\n",
       "<table border=\"1\" class=\"dataframe\">\n",
       "  <thead>\n",
       "    <tr style=\"text-align: right;\">\n",
       "      <th></th>\n",
       "      <th>price</th>\n",
       "      <th>prediction_sum</th>\n",
       "    </tr>\n",
       "  </thead>\n",
       "  <tbody>\n",
       "    <tr>\n",
       "      <th>price</th>\n",
       "      <td>1.000000</td>\n",
       "      <td>0.810871</td>\n",
       "    </tr>\n",
       "    <tr>\n",
       "      <th>prediction_sum</th>\n",
       "      <td>0.810871</td>\n",
       "      <td>1.000000</td>\n",
       "    </tr>\n",
       "  </tbody>\n",
       "</table>\n",
       "</div>"
      ],
      "text/plain": [
       "                   price  prediction_sum\n",
       "price           1.000000        0.810871\n",
       "prediction_sum  0.810871        1.000000"
      ]
     },
     "execution_count": 43,
     "metadata": {},
     "output_type": "execute_result"
    }
   ],
   "source": [
    "df_sum.corr(method='spearman')"
   ]
  },
  {
   "cell_type": "code",
   "execution_count": null,
   "metadata": {
    "collapsed": true
   },
   "outputs": [],
   "source": []
  }
 ],
 "metadata": {
  "kernelspec": {
   "display_name": "Python 3",
   "language": "python",
   "name": "python3"
  },
  "language_info": {
   "codemirror_mode": {
    "name": "ipython",
    "version": 3
   },
   "file_extension": ".py",
   "mimetype": "text/x-python",
   "name": "python",
   "nbconvert_exporter": "python",
   "pygments_lexer": "ipython3",
   "version": "3.6.5"
  }
 },
 "nbformat": 4,
 "nbformat_minor": 2
}
